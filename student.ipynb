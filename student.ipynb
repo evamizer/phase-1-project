{
 "cells": [
  {
   "cell_type": "markdown",
   "metadata": {},
   "source": [
    "## Final Project Submission\n",
    "\n",
    "Please fill out: \n",
    "* Student name: Eva Mizer\n",
    "* Student pace: self paced\n",
    "* Scheduled project review date/time: TDB\n",
    "* Instructor name: Morgan Jones\n",
    "* Blog post URL: TDB\n"
   ]
  },
  {
   "cell_type": "markdown",
   "metadata": {},
   "source": [
    "## Import Libraries"
   ]
  },
  {
   "cell_type": "code",
<<<<<<< HEAD
<<<<<<< HEAD
   "execution_count": 63,
=======
   "execution_count": 1,
>>>>>>> 265b1cb... Add files via upload
=======
   "execution_count": 1,
>>>>>>> bbcfa70... Fine Tooth Revisions
   "metadata": {},
   "outputs": [],
   "source": [
    "import pandas as pd #to work with dataframes\n",
    "import numpy as np #for any and all calculations\n",
    "import sqlite3 #for working with SQL files to make dataframes\n"
   ]
  },
  {
   "cell_type": "markdown",
   "metadata": {},
   "source": [
    "## Import Files\n",
    "\n",
    "For this project we will import the following files:\n",
    "* movieinfo, which is a great source for runtime, genres, and more\n",
    "* reviews, which gives us ratings for specific movies as well as written reviews (though we will only be focusing on the ratings themselves)\n",
    "* tmdb_movies, which gives us release date, among other things\n",
    "* tn_movie_budgets, a great source for the money behind the machine (production, domestic and worldwide gross)\n",
    "* imdb_db, an invaluable source of information with ratings, titles, genres, director information, and more!"
   ]
  },
  {
   "cell_type": "code",
<<<<<<< HEAD
<<<<<<< HEAD
   "execution_count": 64,
=======
   "execution_count": 2,
>>>>>>> 265b1cb... Add files via upload
=======
   "execution_count": 2,
>>>>>>> bbcfa70... Fine Tooth Revisions
   "metadata": {},
   "outputs": [],
   "source": [
    "movieinfo = pd.read_table('Data/rt.movie_info.tsv')\n",
    "reviews = pd.read_csv('Data/rt.reviews.tsv', sep='\\t', encoding='windows-1252')\n",
    "\n",
    "tmdb_movies = pd.read_csv('Data/tmdb.movies.csv')\n",
    "\n",
    "tn_movie_budgets = pd.read_csv('Data/tn.movie_budgets.csv')\n",
    "imdb_db = sqlite3.connect('Data/imdb.db')\n"
   ]
  },
  {
   "cell_type": "markdown",
   "metadata": {},
   "source": [
    "### **Let's look at the first few files...**"
   ]
  },
  {
   "cell_type": "code",
<<<<<<< HEAD
<<<<<<< HEAD
   "execution_count": 65,
=======
   "execution_count": 3,
>>>>>>> 265b1cb... Add files via upload
=======
   "execution_count": 3,
>>>>>>> bbcfa70... Fine Tooth Revisions
   "metadata": {},
   "outputs": [
    {
     "data": {
      "text/html": [
       "<div>\n",
       "<style scoped>\n",
       "    .dataframe tbody tr th:only-of-type {\n",
       "        vertical-align: middle;\n",
       "    }\n",
       "\n",
       "    .dataframe tbody tr th {\n",
       "        vertical-align: top;\n",
       "    }\n",
       "\n",
       "    .dataframe thead th {\n",
       "        text-align: right;\n",
       "    }\n",
       "</style>\n",
       "<table border=\"1\" class=\"dataframe\">\n",
       "  <thead>\n",
       "    <tr style=\"text-align: right;\">\n",
       "      <th></th>\n",
       "      <th>id</th>\n",
       "      <th>synopsis</th>\n",
       "      <th>rating</th>\n",
       "      <th>genre</th>\n",
       "      <th>director</th>\n",
       "      <th>writer</th>\n",
       "      <th>theater_date</th>\n",
       "      <th>dvd_date</th>\n",
       "      <th>currency</th>\n",
       "      <th>box_office</th>\n",
       "      <th>runtime</th>\n",
       "      <th>studio</th>\n",
       "    </tr>\n",
       "  </thead>\n",
       "  <tbody>\n",
       "    <tr>\n",
       "      <th>0</th>\n",
       "      <td>1</td>\n",
       "      <td>This gritty, fast-paced, and innovative police...</td>\n",
       "      <td>R</td>\n",
       "      <td>Action and Adventure|Classics|Drama</td>\n",
       "      <td>William Friedkin</td>\n",
       "      <td>Ernest Tidyman</td>\n",
       "      <td>Oct 9, 1971</td>\n",
       "      <td>Sep 25, 2001</td>\n",
       "      <td>NaN</td>\n",
       "      <td>NaN</td>\n",
       "      <td>104 minutes</td>\n",
       "      <td>NaN</td>\n",
       "    </tr>\n",
       "    <tr>\n",
       "      <th>1</th>\n",
       "      <td>3</td>\n",
       "      <td>New York City, not-too-distant-future: Eric Pa...</td>\n",
       "      <td>R</td>\n",
       "      <td>Drama|Science Fiction and Fantasy</td>\n",
       "      <td>David Cronenberg</td>\n",
       "      <td>David Cronenberg|Don DeLillo</td>\n",
       "      <td>Aug 17, 2012</td>\n",
       "      <td>Jan 1, 2013</td>\n",
       "      <td>$</td>\n",
       "      <td>600,000</td>\n",
       "      <td>108 minutes</td>\n",
       "      <td>Entertainment One</td>\n",
       "    </tr>\n",
       "    <tr>\n",
       "      <th>2</th>\n",
       "      <td>5</td>\n",
       "      <td>Illeana Douglas delivers a superb performance ...</td>\n",
       "      <td>R</td>\n",
       "      <td>Drama|Musical and Performing Arts</td>\n",
       "      <td>Allison Anders</td>\n",
       "      <td>Allison Anders</td>\n",
       "      <td>Sep 13, 1996</td>\n",
       "      <td>Apr 18, 2000</td>\n",
       "      <td>NaN</td>\n",
       "      <td>NaN</td>\n",
       "      <td>116 minutes</td>\n",
       "      <td>NaN</td>\n",
       "    </tr>\n",
       "    <tr>\n",
       "      <th>3</th>\n",
       "      <td>6</td>\n",
       "      <td>Michael Douglas runs afoul of a treacherous su...</td>\n",
       "      <td>R</td>\n",
       "      <td>Drama|Mystery and Suspense</td>\n",
       "      <td>Barry Levinson</td>\n",
       "      <td>Paul Attanasio|Michael Crichton</td>\n",
       "      <td>Dec 9, 1994</td>\n",
       "      <td>Aug 27, 1997</td>\n",
       "      <td>NaN</td>\n",
       "      <td>NaN</td>\n",
       "      <td>128 minutes</td>\n",
       "      <td>NaN</td>\n",
       "    </tr>\n",
       "    <tr>\n",
       "      <th>4</th>\n",
       "      <td>7</td>\n",
       "      <td>NaN</td>\n",
       "      <td>NR</td>\n",
       "      <td>Drama|Romance</td>\n",
       "      <td>Rodney Bennett</td>\n",
       "      <td>Giles Cooper</td>\n",
       "      <td>NaN</td>\n",
       "      <td>NaN</td>\n",
       "      <td>NaN</td>\n",
       "      <td>NaN</td>\n",
       "      <td>200 minutes</td>\n",
       "      <td>NaN</td>\n",
       "    </tr>\n",
       "  </tbody>\n",
       "</table>\n",
       "</div>"
      ],
      "text/plain": [
       "   id                                           synopsis rating  \\\n",
       "0   1  This gritty, fast-paced, and innovative police...      R   \n",
       "1   3  New York City, not-too-distant-future: Eric Pa...      R   \n",
       "2   5  Illeana Douglas delivers a superb performance ...      R   \n",
       "3   6  Michael Douglas runs afoul of a treacherous su...      R   \n",
       "4   7                                                NaN     NR   \n",
       "\n",
       "                                 genre          director  \\\n",
       "0  Action and Adventure|Classics|Drama  William Friedkin   \n",
       "1    Drama|Science Fiction and Fantasy  David Cronenberg   \n",
       "2    Drama|Musical and Performing Arts    Allison Anders   \n",
       "3           Drama|Mystery and Suspense    Barry Levinson   \n",
       "4                        Drama|Romance    Rodney Bennett   \n",
       "\n",
       "                            writer  theater_date      dvd_date currency  \\\n",
       "0                   Ernest Tidyman   Oct 9, 1971  Sep 25, 2001      NaN   \n",
       "1     David Cronenberg|Don DeLillo  Aug 17, 2012   Jan 1, 2013        $   \n",
       "2                   Allison Anders  Sep 13, 1996  Apr 18, 2000      NaN   \n",
       "3  Paul Attanasio|Michael Crichton   Dec 9, 1994  Aug 27, 1997      NaN   \n",
       "4                     Giles Cooper           NaN           NaN      NaN   \n",
       "\n",
       "  box_office      runtime             studio  \n",
       "0        NaN  104 minutes                NaN  \n",
       "1    600,000  108 minutes  Entertainment One  \n",
       "2        NaN  116 minutes                NaN  \n",
       "3        NaN  128 minutes                NaN  \n",
       "4        NaN  200 minutes                NaN  "
      ]
     },
<<<<<<< HEAD
<<<<<<< HEAD
     "execution_count": 65,
=======
     "execution_count": 3,
>>>>>>> 265b1cb... Add files via upload
=======
     "execution_count": 3,
>>>>>>> bbcfa70... Fine Tooth Revisions
     "metadata": {},
     "output_type": "execute_result"
    }
   ],
   "source": [
    "movieinfo.head()"
   ]
  },
  {
   "cell_type": "code",
<<<<<<< HEAD
<<<<<<< HEAD
   "execution_count": 66,
=======
   "execution_count": 4,
>>>>>>> 265b1cb... Add files via upload
=======
   "execution_count": 4,
>>>>>>> bbcfa70... Fine Tooth Revisions
   "metadata": {},
   "outputs": [
    {
     "data": {
      "text/html": [
       "<div>\n",
       "<style scoped>\n",
       "    .dataframe tbody tr th:only-of-type {\n",
       "        vertical-align: middle;\n",
       "    }\n",
       "\n",
       "    .dataframe tbody tr th {\n",
       "        vertical-align: top;\n",
       "    }\n",
       "\n",
       "    .dataframe thead th {\n",
       "        text-align: right;\n",
       "    }\n",
       "</style>\n",
       "<table border=\"1\" class=\"dataframe\">\n",
       "  <thead>\n",
       "    <tr style=\"text-align: right;\">\n",
       "      <th></th>\n",
       "      <th>id</th>\n",
       "      <th>review</th>\n",
       "      <th>rating</th>\n",
       "      <th>fresh</th>\n",
       "      <th>critic</th>\n",
       "      <th>top_critic</th>\n",
       "      <th>publisher</th>\n",
       "      <th>date</th>\n",
       "    </tr>\n",
       "  </thead>\n",
       "  <tbody>\n",
       "    <tr>\n",
       "      <th>0</th>\n",
       "      <td>3</td>\n",
       "      <td>A distinctly gallows take on contemporary fina...</td>\n",
       "      <td>3/5</td>\n",
       "      <td>fresh</td>\n",
       "      <td>PJ Nabarro</td>\n",
       "      <td>0</td>\n",
       "      <td>Patrick Nabarro</td>\n",
       "      <td>November 10, 2018</td>\n",
       "    </tr>\n",
       "    <tr>\n",
       "      <th>1</th>\n",
       "      <td>3</td>\n",
       "      <td>It's an allegory in search of a meaning that n...</td>\n",
       "      <td>NaN</td>\n",
       "      <td>rotten</td>\n",
       "      <td>Annalee Newitz</td>\n",
       "      <td>0</td>\n",
       "      <td>io9.com</td>\n",
       "      <td>May 23, 2018</td>\n",
       "    </tr>\n",
       "    <tr>\n",
       "      <th>2</th>\n",
       "      <td>3</td>\n",
       "      <td>... life lived in a bubble in financial dealin...</td>\n",
       "      <td>NaN</td>\n",
       "      <td>fresh</td>\n",
       "      <td>Sean Axmaker</td>\n",
       "      <td>0</td>\n",
       "      <td>Stream on Demand</td>\n",
       "      <td>January 4, 2018</td>\n",
       "    </tr>\n",
       "    <tr>\n",
       "      <th>3</th>\n",
       "      <td>3</td>\n",
       "      <td>Continuing along a line introduced in last yea...</td>\n",
       "      <td>NaN</td>\n",
       "      <td>fresh</td>\n",
       "      <td>Daniel Kasman</td>\n",
       "      <td>0</td>\n",
       "      <td>MUBI</td>\n",
       "      <td>November 16, 2017</td>\n",
       "    </tr>\n",
       "    <tr>\n",
       "      <th>4</th>\n",
       "      <td>3</td>\n",
       "      <td>... a perverse twist on neorealism...</td>\n",
       "      <td>NaN</td>\n",
       "      <td>fresh</td>\n",
       "      <td>NaN</td>\n",
       "      <td>0</td>\n",
       "      <td>Cinema Scope</td>\n",
       "      <td>October 12, 2017</td>\n",
       "    </tr>\n",
       "  </tbody>\n",
       "</table>\n",
       "</div>"
      ],
      "text/plain": [
       "   id                                             review rating   fresh  \\\n",
       "0   3  A distinctly gallows take on contemporary fina...    3/5   fresh   \n",
       "1   3  It's an allegory in search of a meaning that n...    NaN  rotten   \n",
       "2   3  ... life lived in a bubble in financial dealin...    NaN   fresh   \n",
       "3   3  Continuing along a line introduced in last yea...    NaN   fresh   \n",
       "4   3             ... a perverse twist on neorealism...     NaN   fresh   \n",
       "\n",
       "           critic  top_critic         publisher               date  \n",
       "0      PJ Nabarro           0   Patrick Nabarro  November 10, 2018  \n",
       "1  Annalee Newitz           0           io9.com       May 23, 2018  \n",
       "2    Sean Axmaker           0  Stream on Demand    January 4, 2018  \n",
       "3   Daniel Kasman           0              MUBI  November 16, 2017  \n",
       "4             NaN           0      Cinema Scope   October 12, 2017  "
      ]
     },
<<<<<<< HEAD
<<<<<<< HEAD
     "execution_count": 66,
=======
     "execution_count": 4,
>>>>>>> 265b1cb... Add files via upload
=======
     "execution_count": 4,
>>>>>>> bbcfa70... Fine Tooth Revisions
     "metadata": {},
     "output_type": "execute_result"
    }
   ],
   "source": [
    "reviews.head()"
   ]
  },
  {
   "cell_type": "code",
<<<<<<< HEAD
<<<<<<< HEAD
   "execution_count": 67,
=======
   "execution_count": 5,
>>>>>>> 265b1cb... Add files via upload
=======
   "execution_count": 5,
>>>>>>> bbcfa70... Fine Tooth Revisions
   "metadata": {},
   "outputs": [
    {
     "data": {
      "text/html": [
       "<div>\n",
       "<style scoped>\n",
       "    .dataframe tbody tr th:only-of-type {\n",
       "        vertical-align: middle;\n",
       "    }\n",
       "\n",
       "    .dataframe tbody tr th {\n",
       "        vertical-align: top;\n",
       "    }\n",
       "\n",
       "    .dataframe thead th {\n",
       "        text-align: right;\n",
       "    }\n",
       "</style>\n",
       "<table border=\"1\" class=\"dataframe\">\n",
       "  <thead>\n",
       "    <tr style=\"text-align: right;\">\n",
       "      <th></th>\n",
       "      <th>Unnamed: 0</th>\n",
       "      <th>genre_ids</th>\n",
       "      <th>id</th>\n",
       "      <th>original_language</th>\n",
       "      <th>original_title</th>\n",
       "      <th>popularity</th>\n",
       "      <th>release_date</th>\n",
       "      <th>title</th>\n",
       "      <th>vote_average</th>\n",
       "      <th>vote_count</th>\n",
       "    </tr>\n",
       "  </thead>\n",
       "  <tbody>\n",
       "    <tr>\n",
       "      <th>0</th>\n",
       "      <td>0</td>\n",
       "      <td>[12, 14, 10751]</td>\n",
       "      <td>12444</td>\n",
       "      <td>en</td>\n",
       "      <td>Harry Potter and the Deathly Hallows: Part 1</td>\n",
       "      <td>33.533</td>\n",
       "      <td>2010-11-19</td>\n",
       "      <td>Harry Potter and the Deathly Hallows: Part 1</td>\n",
       "      <td>7.7</td>\n",
       "      <td>10788</td>\n",
       "    </tr>\n",
       "    <tr>\n",
       "      <th>1</th>\n",
       "      <td>1</td>\n",
       "      <td>[14, 12, 16, 10751]</td>\n",
       "      <td>10191</td>\n",
       "      <td>en</td>\n",
       "      <td>How to Train Your Dragon</td>\n",
       "      <td>28.734</td>\n",
       "      <td>2010-03-26</td>\n",
       "      <td>How to Train Your Dragon</td>\n",
       "      <td>7.7</td>\n",
       "      <td>7610</td>\n",
       "    </tr>\n",
       "    <tr>\n",
       "      <th>2</th>\n",
       "      <td>2</td>\n",
       "      <td>[12, 28, 878]</td>\n",
       "      <td>10138</td>\n",
       "      <td>en</td>\n",
       "      <td>Iron Man 2</td>\n",
       "      <td>28.515</td>\n",
       "      <td>2010-05-07</td>\n",
       "      <td>Iron Man 2</td>\n",
       "      <td>6.8</td>\n",
       "      <td>12368</td>\n",
       "    </tr>\n",
       "    <tr>\n",
       "      <th>3</th>\n",
       "      <td>3</td>\n",
       "      <td>[16, 35, 10751]</td>\n",
       "      <td>862</td>\n",
       "      <td>en</td>\n",
       "      <td>Toy Story</td>\n",
       "      <td>28.005</td>\n",
       "      <td>1995-11-22</td>\n",
       "      <td>Toy Story</td>\n",
       "      <td>7.9</td>\n",
       "      <td>10174</td>\n",
       "    </tr>\n",
       "    <tr>\n",
       "      <th>4</th>\n",
       "      <td>4</td>\n",
       "      <td>[28, 878, 12]</td>\n",
       "      <td>27205</td>\n",
       "      <td>en</td>\n",
       "      <td>Inception</td>\n",
       "      <td>27.920</td>\n",
       "      <td>2010-07-16</td>\n",
       "      <td>Inception</td>\n",
       "      <td>8.3</td>\n",
       "      <td>22186</td>\n",
       "    </tr>\n",
       "  </tbody>\n",
       "</table>\n",
       "</div>"
      ],
      "text/plain": [
       "   Unnamed: 0            genre_ids     id original_language  \\\n",
       "0           0      [12, 14, 10751]  12444                en   \n",
       "1           1  [14, 12, 16, 10751]  10191                en   \n",
       "2           2        [12, 28, 878]  10138                en   \n",
       "3           3      [16, 35, 10751]    862                en   \n",
       "4           4        [28, 878, 12]  27205                en   \n",
       "\n",
       "                                 original_title  popularity release_date  \\\n",
       "0  Harry Potter and the Deathly Hallows: Part 1      33.533   2010-11-19   \n",
       "1                      How to Train Your Dragon      28.734   2010-03-26   \n",
       "2                                    Iron Man 2      28.515   2010-05-07   \n",
       "3                                     Toy Story      28.005   1995-11-22   \n",
       "4                                     Inception      27.920   2010-07-16   \n",
       "\n",
       "                                          title  vote_average  vote_count  \n",
       "0  Harry Potter and the Deathly Hallows: Part 1           7.7       10788  \n",
       "1                      How to Train Your Dragon           7.7        7610  \n",
       "2                                    Iron Man 2           6.8       12368  \n",
       "3                                     Toy Story           7.9       10174  \n",
       "4                                     Inception           8.3       22186  "
      ]
     },
<<<<<<< HEAD
<<<<<<< HEAD
     "execution_count": 67,
=======
     "execution_count": 5,
>>>>>>> 265b1cb... Add files via upload
=======
     "execution_count": 5,
>>>>>>> bbcfa70... Fine Tooth Revisions
     "metadata": {},
     "output_type": "execute_result"
    }
   ],
   "source": [
    "tmdb_movies.head()"
   ]
  },
  {
   "cell_type": "markdown",
   "metadata": {},
   "source": [
    "## They look great! Now let's combine! \n"
   ]
  },
  {
   "cell_type": "code",
<<<<<<< HEAD
<<<<<<< HEAD
   "execution_count": 68,
=======
   "execution_count": 6,
>>>>>>> 265b1cb... Add files via upload
=======
   "execution_count": 6,
>>>>>>> bbcfa70... Fine Tooth Revisions
   "metadata": {},
   "outputs": [
    {
     "data": {
      "text/html": [
       "<div>\n",
       "<style scoped>\n",
       "    .dataframe tbody tr th:only-of-type {\n",
       "        vertical-align: middle;\n",
       "    }\n",
       "\n",
       "    .dataframe tbody tr th {\n",
       "        vertical-align: top;\n",
       "    }\n",
       "\n",
       "    .dataframe thead th {\n",
       "        text-align: right;\n",
       "    }\n",
       "</style>\n",
       "<table border=\"1\" class=\"dataframe\">\n",
       "  <thead>\n",
       "    <tr style=\"text-align: right;\">\n",
       "      <th></th>\n",
       "      <th>Id</th>\n",
       "      <th>review</th>\n",
       "      <th>rating_x</th>\n",
       "      <th>fresh</th>\n",
       "      <th>critic</th>\n",
       "      <th>top_critic</th>\n",
       "      <th>publisher</th>\n",
       "      <th>date</th>\n",
       "      <th>rating_y</th>\n",
       "      <th>genre</th>\n",
       "      <th>runtime</th>\n",
       "      <th>title</th>\n",
       "    </tr>\n",
       "  </thead>\n",
       "  <tbody>\n",
       "    <tr>\n",
       "      <th>0</th>\n",
       "      <td>3</td>\n",
       "      <td>A distinctly gallows take on contemporary fina...</td>\n",
       "      <td>3/5</td>\n",
       "      <td>fresh</td>\n",
       "      <td>PJ Nabarro</td>\n",
       "      <td>0</td>\n",
       "      <td>Patrick Nabarro</td>\n",
       "      <td>November 10, 2018</td>\n",
       "      <td>R</td>\n",
       "      <td>Drama|Science Fiction and Fantasy</td>\n",
       "      <td>108 minutes</td>\n",
       "      <td>NaN</td>\n",
       "    </tr>\n",
       "    <tr>\n",
       "      <th>1</th>\n",
       "      <td>3</td>\n",
       "      <td>It's an allegory in search of a meaning that n...</td>\n",
       "      <td>NaN</td>\n",
       "      <td>rotten</td>\n",
       "      <td>Annalee Newitz</td>\n",
       "      <td>0</td>\n",
       "      <td>io9.com</td>\n",
       "      <td>May 23, 2018</td>\n",
       "      <td>R</td>\n",
       "      <td>Drama|Science Fiction and Fantasy</td>\n",
       "      <td>108 minutes</td>\n",
       "      <td>NaN</td>\n",
       "    </tr>\n",
       "    <tr>\n",
       "      <th>2</th>\n",
       "      <td>3</td>\n",
       "      <td>... life lived in a bubble in financial dealin...</td>\n",
       "      <td>NaN</td>\n",
       "      <td>fresh</td>\n",
       "      <td>Sean Axmaker</td>\n",
       "      <td>0</td>\n",
       "      <td>Stream on Demand</td>\n",
       "      <td>January 4, 2018</td>\n",
       "      <td>R</td>\n",
       "      <td>Drama|Science Fiction and Fantasy</td>\n",
       "      <td>108 minutes</td>\n",
       "      <td>NaN</td>\n",
       "    </tr>\n",
       "    <tr>\n",
       "      <th>3</th>\n",
       "      <td>3</td>\n",
       "      <td>Continuing along a line introduced in last yea...</td>\n",
       "      <td>NaN</td>\n",
       "      <td>fresh</td>\n",
       "      <td>Daniel Kasman</td>\n",
       "      <td>0</td>\n",
       "      <td>MUBI</td>\n",
       "      <td>November 16, 2017</td>\n",
       "      <td>R</td>\n",
       "      <td>Drama|Science Fiction and Fantasy</td>\n",
       "      <td>108 minutes</td>\n",
       "      <td>NaN</td>\n",
       "    </tr>\n",
       "    <tr>\n",
       "      <th>4</th>\n",
       "      <td>3</td>\n",
       "      <td>... a perverse twist on neorealism...</td>\n",
       "      <td>NaN</td>\n",
       "      <td>fresh</td>\n",
       "      <td>NaN</td>\n",
       "      <td>0</td>\n",
       "      <td>Cinema Scope</td>\n",
       "      <td>October 12, 2017</td>\n",
       "      <td>R</td>\n",
       "      <td>Drama|Science Fiction and Fantasy</td>\n",
       "      <td>108 minutes</td>\n",
       "      <td>NaN</td>\n",
       "    </tr>\n",
       "    <tr>\n",
       "      <th>...</th>\n",
       "      <td>...</td>\n",
       "      <td>...</td>\n",
       "      <td>...</td>\n",
       "      <td>...</td>\n",
       "      <td>...</td>\n",
       "      <td>...</td>\n",
       "      <td>...</td>\n",
       "      <td>...</td>\n",
       "      <td>...</td>\n",
       "      <td>...</td>\n",
       "      <td>...</td>\n",
       "      <td>...</td>\n",
       "    </tr>\n",
       "    <tr>\n",
       "      <th>54582</th>\n",
       "      <td>2000</td>\n",
       "      <td>The real charm of this trifle is the deadpan c...</td>\n",
       "      <td>NaN</td>\n",
       "      <td>fresh</td>\n",
       "      <td>Laura Sinagra</td>\n",
       "      <td>1</td>\n",
       "      <td>Village Voice</td>\n",
       "      <td>September 24, 2002</td>\n",
       "      <td>R</td>\n",
       "      <td>Action and Adventure|Art House and Internation...</td>\n",
       "      <td>94 minutes</td>\n",
       "      <td>NaN</td>\n",
       "    </tr>\n",
       "    <tr>\n",
       "      <th>54583</th>\n",
       "      <td>2000</td>\n",
       "      <td>NaN</td>\n",
       "      <td>1/5</td>\n",
       "      <td>rotten</td>\n",
       "      <td>Michael Szymanski</td>\n",
       "      <td>0</td>\n",
       "      <td>Zap2it.com</td>\n",
       "      <td>September 21, 2005</td>\n",
       "      <td>R</td>\n",
       "      <td>Action and Adventure|Art House and Internation...</td>\n",
       "      <td>94 minutes</td>\n",
       "      <td>NaN</td>\n",
       "    </tr>\n",
       "    <tr>\n",
       "      <th>54584</th>\n",
       "      <td>2000</td>\n",
       "      <td>NaN</td>\n",
       "      <td>2/5</td>\n",
       "      <td>rotten</td>\n",
       "      <td>Emanuel Levy</td>\n",
       "      <td>0</td>\n",
       "      <td>EmanuelLevy.Com</td>\n",
       "      <td>July 17, 2005</td>\n",
       "      <td>R</td>\n",
       "      <td>Action and Adventure|Art House and Internation...</td>\n",
       "      <td>94 minutes</td>\n",
       "      <td>NaN</td>\n",
       "    </tr>\n",
       "    <tr>\n",
       "      <th>54585</th>\n",
       "      <td>2000</td>\n",
       "      <td>NaN</td>\n",
       "      <td>2.5/5</td>\n",
       "      <td>rotten</td>\n",
       "      <td>Christopher Null</td>\n",
       "      <td>0</td>\n",
       "      <td>Filmcritic.com</td>\n",
       "      <td>September 7, 2003</td>\n",
       "      <td>R</td>\n",
       "      <td>Action and Adventure|Art House and Internation...</td>\n",
       "      <td>94 minutes</td>\n",
       "      <td>NaN</td>\n",
       "    </tr>\n",
       "    <tr>\n",
       "      <th>54586</th>\n",
       "      <td>2000</td>\n",
       "      <td>NaN</td>\n",
       "      <td>3/5</td>\n",
       "      <td>fresh</td>\n",
       "      <td>Nicolas Lacroix</td>\n",
       "      <td>0</td>\n",
       "      <td>Showbizz.net</td>\n",
       "      <td>November 12, 2002</td>\n",
       "      <td>R</td>\n",
       "      <td>Action and Adventure|Art House and Internation...</td>\n",
       "      <td>94 minutes</td>\n",
       "      <td>NaN</td>\n",
       "    </tr>\n",
       "  </tbody>\n",
       "</table>\n",
       "<p>54587 rows × 12 columns</p>\n",
       "</div>"
      ],
      "text/plain": [
       "         Id                                             review rating_x  \\\n",
       "0         3  A distinctly gallows take on contemporary fina...      3/5   \n",
       "1         3  It's an allegory in search of a meaning that n...      NaN   \n",
       "2         3  ... life lived in a bubble in financial dealin...      NaN   \n",
       "3         3  Continuing along a line introduced in last yea...      NaN   \n",
       "4         3             ... a perverse twist on neorealism...       NaN   \n",
       "...     ...                                                ...      ...   \n",
       "54582  2000  The real charm of this trifle is the deadpan c...      NaN   \n",
       "54583  2000                                                NaN      1/5   \n",
       "54584  2000                                                NaN      2/5   \n",
       "54585  2000                                                NaN    2.5/5   \n",
       "54586  2000                                                NaN      3/5   \n",
       "\n",
       "        fresh             critic  top_critic         publisher  \\\n",
       "0       fresh         PJ Nabarro           0   Patrick Nabarro   \n",
       "1      rotten     Annalee Newitz           0           io9.com   \n",
       "2       fresh       Sean Axmaker           0  Stream on Demand   \n",
       "3       fresh      Daniel Kasman           0              MUBI   \n",
       "4       fresh                NaN           0      Cinema Scope   \n",
       "...       ...                ...         ...               ...   \n",
       "54582   fresh      Laura Sinagra           1     Village Voice   \n",
       "54583  rotten  Michael Szymanski           0        Zap2it.com   \n",
       "54584  rotten       Emanuel Levy           0   EmanuelLevy.Com   \n",
       "54585  rotten   Christopher Null           0    Filmcritic.com   \n",
       "54586   fresh    Nicolas Lacroix           0      Showbizz.net   \n",
       "\n",
       "                     date rating_y  \\\n",
       "0       November 10, 2018        R   \n",
       "1            May 23, 2018        R   \n",
       "2         January 4, 2018        R   \n",
       "3       November 16, 2017        R   \n",
       "4        October 12, 2017        R   \n",
       "...                   ...      ...   \n",
       "54582  September 24, 2002        R   \n",
       "54583  September 21, 2005        R   \n",
       "54584       July 17, 2005        R   \n",
       "54585   September 7, 2003        R   \n",
       "54586   November 12, 2002        R   \n",
       "\n",
       "                                                   genre      runtime title  \n",
       "0                      Drama|Science Fiction and Fantasy  108 minutes   NaN  \n",
       "1                      Drama|Science Fiction and Fantasy  108 minutes   NaN  \n",
       "2                      Drama|Science Fiction and Fantasy  108 minutes   NaN  \n",
       "3                      Drama|Science Fiction and Fantasy  108 minutes   NaN  \n",
       "4                      Drama|Science Fiction and Fantasy  108 minutes   NaN  \n",
       "...                                                  ...          ...   ...  \n",
       "54582  Action and Adventure|Art House and Internation...   94 minutes   NaN  \n",
       "54583  Action and Adventure|Art House and Internation...   94 minutes   NaN  \n",
       "54584  Action and Adventure|Art House and Internation...   94 minutes   NaN  \n",
       "54585  Action and Adventure|Art House and Internation...   94 minutes   NaN  \n",
       "54586  Action and Adventure|Art House and Internation...   94 minutes   NaN  \n",
       "\n",
       "[54587 rows x 12 columns]"
      ]
     },
<<<<<<< HEAD
<<<<<<< HEAD
     "execution_count": 68,
=======
     "execution_count": 6,
>>>>>>> 265b1cb... Add files via upload
=======
     "execution_count": 6,
>>>>>>> bbcfa70... Fine Tooth Revisions
     "metadata": {},
     "output_type": "execute_result"
    }
   ],
   "source": [
    "ratings_and_beyond = reviews.merge(movieinfo[['rating', 'genre', 'runtime', 'id']], on = 'id', how = 'left')\n",
    "ratings_and_beyond = ratings_and_beyond.merge(tmdb_movies[['title', 'id']], on = 'id', how = 'left')\n",
    "ratings_and_beyond = ratings_and_beyond.rename(columns={\"id\": \"Id\"}, errors=\"raise\")\n",
    "ratings_and_beyond"
   ]
  },
  {
   "cell_type": "code",
<<<<<<< HEAD
<<<<<<< HEAD
   "execution_count": 69,
=======
   "execution_count": 7,
>>>>>>> 265b1cb... Add files via upload
=======
   "execution_count": 7,
>>>>>>> bbcfa70... Fine Tooth Revisions
   "metadata": {},
   "outputs": [
    {
     "data": {
      "text/html": [
       "<div>\n",
       "<style scoped>\n",
       "    .dataframe tbody tr th:only-of-type {\n",
       "        vertical-align: middle;\n",
       "    }\n",
       "\n",
       "    .dataframe tbody tr th {\n",
       "        vertical-align: top;\n",
       "    }\n",
       "\n",
       "    .dataframe thead th {\n",
       "        text-align: right;\n",
       "    }\n",
       "</style>\n",
       "<table border=\"1\" class=\"dataframe\">\n",
       "  <thead>\n",
       "    <tr style=\"text-align: right;\">\n",
       "      <th></th>\n",
       "      <th>Id</th>\n",
       "      <th>review</th>\n",
       "      <th>rating_x</th>\n",
       "      <th>fresh</th>\n",
       "      <th>critic</th>\n",
       "      <th>top_critic</th>\n",
       "      <th>publisher</th>\n",
       "      <th>date</th>\n",
       "      <th>rating_y</th>\n",
       "      <th>genre</th>\n",
       "      <th>runtime</th>\n",
       "      <th>title</th>\n",
       "    </tr>\n",
       "  </thead>\n",
       "  <tbody>\n",
       "    <tr>\n",
       "      <th>0</th>\n",
       "      <td>3</td>\n",
       "      <td>A distinctly gallows take on contemporary fina...</td>\n",
       "      <td>3/5</td>\n",
       "      <td>fresh</td>\n",
       "      <td>PJ Nabarro</td>\n",
       "      <td>0</td>\n",
       "      <td>Patrick Nabarro</td>\n",
       "      <td>2018-11-10</td>\n",
       "      <td>R</td>\n",
       "      <td>Drama|Science Fiction and Fantasy</td>\n",
       "      <td>108</td>\n",
       "      <td>NaN</td>\n",
       "    </tr>\n",
       "    <tr>\n",
       "      <th>1</th>\n",
       "      <td>3</td>\n",
       "      <td>It's an allegory in search of a meaning that n...</td>\n",
       "      <td>NaN</td>\n",
       "      <td>rotten</td>\n",
       "      <td>Annalee Newitz</td>\n",
       "      <td>0</td>\n",
       "      <td>io9.com</td>\n",
       "      <td>2018-05-23</td>\n",
       "      <td>R</td>\n",
       "      <td>Drama|Science Fiction and Fantasy</td>\n",
       "      <td>108</td>\n",
       "      <td>NaN</td>\n",
       "    </tr>\n",
       "    <tr>\n",
       "      <th>2</th>\n",
       "      <td>3</td>\n",
       "      <td>... life lived in a bubble in financial dealin...</td>\n",
       "      <td>NaN</td>\n",
       "      <td>fresh</td>\n",
       "      <td>Sean Axmaker</td>\n",
       "      <td>0</td>\n",
       "      <td>Stream on Demand</td>\n",
       "      <td>2018-01-04</td>\n",
       "      <td>R</td>\n",
       "      <td>Drama|Science Fiction and Fantasy</td>\n",
       "      <td>108</td>\n",
       "      <td>NaN</td>\n",
       "    </tr>\n",
       "    <tr>\n",
       "      <th>3</th>\n",
       "      <td>3</td>\n",
       "      <td>Continuing along a line introduced in last yea...</td>\n",
       "      <td>NaN</td>\n",
       "      <td>fresh</td>\n",
       "      <td>Daniel Kasman</td>\n",
       "      <td>0</td>\n",
       "      <td>MUBI</td>\n",
       "      <td>2017-11-16</td>\n",
       "      <td>R</td>\n",
       "      <td>Drama|Science Fiction and Fantasy</td>\n",
       "      <td>108</td>\n",
       "      <td>NaN</td>\n",
       "    </tr>\n",
       "    <tr>\n",
       "      <th>4</th>\n",
       "      <td>3</td>\n",
       "      <td>... a perverse twist on neorealism...</td>\n",
       "      <td>NaN</td>\n",
       "      <td>fresh</td>\n",
       "      <td>NaN</td>\n",
       "      <td>0</td>\n",
       "      <td>Cinema Scope</td>\n",
       "      <td>2017-10-12</td>\n",
       "      <td>R</td>\n",
       "      <td>Drama|Science Fiction and Fantasy</td>\n",
       "      <td>108</td>\n",
       "      <td>NaN</td>\n",
       "    </tr>\n",
       "    <tr>\n",
       "      <th>...</th>\n",
       "      <td>...</td>\n",
       "      <td>...</td>\n",
       "      <td>...</td>\n",
       "      <td>...</td>\n",
       "      <td>...</td>\n",
       "      <td>...</td>\n",
       "      <td>...</td>\n",
       "      <td>...</td>\n",
       "      <td>...</td>\n",
       "      <td>...</td>\n",
       "      <td>...</td>\n",
       "      <td>...</td>\n",
       "    </tr>\n",
       "    <tr>\n",
       "      <th>54582</th>\n",
       "      <td>2000</td>\n",
       "      <td>The real charm of this trifle is the deadpan c...</td>\n",
       "      <td>NaN</td>\n",
       "      <td>fresh</td>\n",
       "      <td>Laura Sinagra</td>\n",
       "      <td>1</td>\n",
       "      <td>Village Voice</td>\n",
       "      <td>2002-09-24</td>\n",
       "      <td>R</td>\n",
       "      <td>Action and Adventure|Art House and Internation...</td>\n",
       "      <td>94</td>\n",
       "      <td>NaN</td>\n",
       "    </tr>\n",
       "    <tr>\n",
       "      <th>54583</th>\n",
       "      <td>2000</td>\n",
       "      <td>NaN</td>\n",
       "      <td>1/5</td>\n",
       "      <td>rotten</td>\n",
       "      <td>Michael Szymanski</td>\n",
       "      <td>0</td>\n",
       "      <td>Zap2it.com</td>\n",
       "      <td>2005-09-21</td>\n",
       "      <td>R</td>\n",
       "      <td>Action and Adventure|Art House and Internation...</td>\n",
       "      <td>94</td>\n",
       "      <td>NaN</td>\n",
       "    </tr>\n",
       "    <tr>\n",
       "      <th>54584</th>\n",
       "      <td>2000</td>\n",
       "      <td>NaN</td>\n",
       "      <td>2/5</td>\n",
       "      <td>rotten</td>\n",
       "      <td>Emanuel Levy</td>\n",
       "      <td>0</td>\n",
       "      <td>EmanuelLevy.Com</td>\n",
       "      <td>2005-07-17</td>\n",
       "      <td>R</td>\n",
       "      <td>Action and Adventure|Art House and Internation...</td>\n",
       "      <td>94</td>\n",
       "      <td>NaN</td>\n",
       "    </tr>\n",
       "    <tr>\n",
       "      <th>54585</th>\n",
       "      <td>2000</td>\n",
       "      <td>NaN</td>\n",
       "      <td>2.5/5</td>\n",
       "      <td>rotten</td>\n",
       "      <td>Christopher Null</td>\n",
       "      <td>0</td>\n",
       "      <td>Filmcritic.com</td>\n",
       "      <td>2003-09-07</td>\n",
       "      <td>R</td>\n",
       "      <td>Action and Adventure|Art House and Internation...</td>\n",
       "      <td>94</td>\n",
       "      <td>NaN</td>\n",
       "    </tr>\n",
       "    <tr>\n",
       "      <th>54586</th>\n",
       "      <td>2000</td>\n",
       "      <td>NaN</td>\n",
       "      <td>3/5</td>\n",
       "      <td>fresh</td>\n",
       "      <td>Nicolas Lacroix</td>\n",
       "      <td>0</td>\n",
       "      <td>Showbizz.net</td>\n",
       "      <td>2002-11-12</td>\n",
       "      <td>R</td>\n",
       "      <td>Action and Adventure|Art House and Internation...</td>\n",
       "      <td>94</td>\n",
       "      <td>NaN</td>\n",
       "    </tr>\n",
       "  </tbody>\n",
       "</table>\n",
       "<p>54587 rows × 12 columns</p>\n",
       "</div>"
      ],
      "text/plain": [
       "         Id                                             review rating_x  \\\n",
       "0         3  A distinctly gallows take on contemporary fina...      3/5   \n",
       "1         3  It's an allegory in search of a meaning that n...      NaN   \n",
       "2         3  ... life lived in a bubble in financial dealin...      NaN   \n",
       "3         3  Continuing along a line introduced in last yea...      NaN   \n",
       "4         3             ... a perverse twist on neorealism...       NaN   \n",
       "...     ...                                                ...      ...   \n",
       "54582  2000  The real charm of this trifle is the deadpan c...      NaN   \n",
       "54583  2000                                                NaN      1/5   \n",
       "54584  2000                                                NaN      2/5   \n",
       "54585  2000                                                NaN    2.5/5   \n",
       "54586  2000                                                NaN      3/5   \n",
       "\n",
       "        fresh             critic  top_critic         publisher       date  \\\n",
       "0       fresh         PJ Nabarro           0   Patrick Nabarro 2018-11-10   \n",
       "1      rotten     Annalee Newitz           0           io9.com 2018-05-23   \n",
       "2       fresh       Sean Axmaker           0  Stream on Demand 2018-01-04   \n",
       "3       fresh      Daniel Kasman           0              MUBI 2017-11-16   \n",
       "4       fresh                NaN           0      Cinema Scope 2017-10-12   \n",
       "...       ...                ...         ...               ...        ...   \n",
       "54582   fresh      Laura Sinagra           1     Village Voice 2002-09-24   \n",
       "54583  rotten  Michael Szymanski           0        Zap2it.com 2005-09-21   \n",
       "54584  rotten       Emanuel Levy           0   EmanuelLevy.Com 2005-07-17   \n",
       "54585  rotten   Christopher Null           0    Filmcritic.com 2003-09-07   \n",
       "54586   fresh    Nicolas Lacroix           0      Showbizz.net 2002-11-12   \n",
       "\n",
       "      rating_y                                              genre  runtime  \\\n",
       "0            R                  Drama|Science Fiction and Fantasy      108   \n",
       "1            R                  Drama|Science Fiction and Fantasy      108   \n",
       "2            R                  Drama|Science Fiction and Fantasy      108   \n",
       "3            R                  Drama|Science Fiction and Fantasy      108   \n",
       "4            R                  Drama|Science Fiction and Fantasy      108   \n",
       "...        ...                                                ...      ...   \n",
       "54582        R  Action and Adventure|Art House and Internation...       94   \n",
       "54583        R  Action and Adventure|Art House and Internation...       94   \n",
       "54584        R  Action and Adventure|Art House and Internation...       94   \n",
       "54585        R  Action and Adventure|Art House and Internation...       94   \n",
       "54586        R  Action and Adventure|Art House and Internation...       94   \n",
       "\n",
       "      title  \n",
       "0       NaN  \n",
       "1       NaN  \n",
       "2       NaN  \n",
       "3       NaN  \n",
       "4       NaN  \n",
       "...     ...  \n",
       "54582   NaN  \n",
       "54583   NaN  \n",
       "54584   NaN  \n",
       "54585   NaN  \n",
       "54586   NaN  \n",
       "\n",
       "[54587 rows x 12 columns]"
      ]
     },
<<<<<<< HEAD
<<<<<<< HEAD
     "execution_count": 69,
=======
     "execution_count": 7,
>>>>>>> 265b1cb... Add files via upload
=======
     "execution_count": 7,
>>>>>>> bbcfa70... Fine Tooth Revisions
     "metadata": {},
     "output_type": "execute_result"
    }
   ],
   "source": [
    "###convert date to just month, runtime to just minutes\n",
    "ratings_and_beyond['date'] = pd.to_datetime(ratings_and_beyond['date'])\n",
    "ratings_and_beyond['runtime'] = ratings_and_beyond['runtime'].str.replace(\" minutes\",\"\")\n",
    "ratings_and_beyond['runtime'] = pd.to_numeric(ratings_and_beyond['runtime'], downcast=\"integer\")\n",
    "\n",
    "###Nans need to be fixed\n",
    "\n",
    "###Swap out Nans for average of the runtime column (only about 800 entries of over 54 thousand)\n",
    "ratings_and_beyond['runtime'].fillna((ratings_and_beyond['runtime'].mean()), inplace=True)\n",
    "ratings_and_beyond['runtime'] = ratings_and_beyond['runtime'].astype(int)\n",
    "\n",
    "ratings_and_beyond"
   ]
  },
  {
   "cell_type": "markdown",
   "metadata": {},
   "source": [
    "### Uniforming the ratings...\n",
    "\n",
    "Let's see what rating_x is made of and give us an idea of how easy it would be to convert the cells to be uniform."
   ]
  },
  {
   "cell_type": "code",
<<<<<<< HEAD
<<<<<<< HEAD
   "execution_count": 70,
=======
   "execution_count": 8,
>>>>>>> 265b1cb... Add files via upload
=======
   "execution_count": 8,
>>>>>>> bbcfa70... Fine Tooth Revisions
   "metadata": {},
   "outputs": [
    {
     "data": {
      "text/plain": [
       "3/5       4335\n",
       "4/5       3674\n",
       "3/4       3579\n",
       "2/5       3173\n",
       "2/4       2736\n",
       "          ... \n",
<<<<<<< HEAD
<<<<<<< HEAD
       "2.3/5        1\n",
       "6.2/10       1\n",
       "7.8          1\n",
       "4.9          1\n",
       "4.2/5        1\n",
       "Name: rating_x, Length: 186, dtype: int64"
      ]
     },
     "execution_count": 70,
=======
       "6.2/10       1\n",
       "2.7/5        1\n",
       "8.4          1\n",
       "2.6/5        1\n",
       "2.2/5        1\n",
       "Name: rating_x, Length: 186, dtype: int64"
      ]
     },
     "execution_count": 8,
>>>>>>> 265b1cb... Add files via upload
=======
       "7.9          1\n",
       "7.3/10       1\n",
       "6.7          1\n",
       "9.0          1\n",
       "1.8          1\n",
       "Name: rating_x, Length: 186, dtype: int64"
      ]
     },
     "execution_count": 8,
>>>>>>> bbcfa70... Fine Tooth Revisions
     "metadata": {},
     "output_type": "execute_result"
    }
   ],
   "source": [
    "ratings_and_beyond['rating_x'].value_counts()"
   ]
  },
  {
   "cell_type": "markdown",
   "metadata": {},
   "source": [
    "### Reclculating... \n",
<<<<<<< HEAD
    "Wow... The excessive amount of variable types in ratings_and_beyond is proving to be problematic for the timeframe (and knowledgebase) we have. Instead, we can focus on the ratings from our IMDB file featured later.\n",
=======
    "The excessive amount of variable types in ratings_and_beyond is proving to be problematic for the timeframe (and knowledgebase) we have. Instead, we can focus on the ratings from our IMDB file featured later.\n",
>>>>>>> 265b1cb... Add files via upload
    "**Now we look at tn_movie_budgets, a great resource for the real dollars and cents!**\n"
   ]
  },
  {
   "cell_type": "code",
<<<<<<< HEAD
<<<<<<< HEAD
   "execution_count": 71,
=======
   "execution_count": 9,
>>>>>>> 265b1cb... Add files via upload
=======
   "execution_count": 9,
>>>>>>> bbcfa70... Fine Tooth Revisions
   "metadata": {},
   "outputs": [
    {
     "data": {
      "text/html": [
       "<div>\n",
       "<style scoped>\n",
       "    .dataframe tbody tr th:only-of-type {\n",
       "        vertical-align: middle;\n",
       "    }\n",
       "\n",
       "    .dataframe tbody tr th {\n",
       "        vertical-align: top;\n",
       "    }\n",
       "\n",
       "    .dataframe thead th {\n",
       "        text-align: right;\n",
       "    }\n",
       "</style>\n",
       "<table border=\"1\" class=\"dataframe\">\n",
       "  <thead>\n",
       "    <tr style=\"text-align: right;\">\n",
       "      <th></th>\n",
       "      <th>id</th>\n",
       "      <th>release_date</th>\n",
       "      <th>movie</th>\n",
       "      <th>production_budget</th>\n",
       "      <th>domestic_gross</th>\n",
       "      <th>worldwide_gross</th>\n",
       "    </tr>\n",
       "  </thead>\n",
       "  <tbody>\n",
       "    <tr>\n",
       "      <th>0</th>\n",
       "      <td>1</td>\n",
       "      <td>Dec 18, 2009</td>\n",
       "      <td>Avatar</td>\n",
       "      <td>$425,000,000</td>\n",
       "      <td>$760,507,625</td>\n",
       "      <td>$2,776,345,279</td>\n",
       "    </tr>\n",
       "    <tr>\n",
       "      <th>1</th>\n",
       "      <td>2</td>\n",
       "      <td>May 20, 2011</td>\n",
       "      <td>Pirates of the Caribbean: On Stranger Tides</td>\n",
       "      <td>$410,600,000</td>\n",
       "      <td>$241,063,875</td>\n",
       "      <td>$1,045,663,875</td>\n",
       "    </tr>\n",
       "    <tr>\n",
       "      <th>2</th>\n",
       "      <td>3</td>\n",
       "      <td>Jun 7, 2019</td>\n",
       "      <td>Dark Phoenix</td>\n",
       "      <td>$350,000,000</td>\n",
       "      <td>$42,762,350</td>\n",
       "      <td>$149,762,350</td>\n",
       "    </tr>\n",
       "    <tr>\n",
       "      <th>3</th>\n",
       "      <td>4</td>\n",
       "      <td>May 1, 2015</td>\n",
       "      <td>Avengers: Age of Ultron</td>\n",
       "      <td>$330,600,000</td>\n",
       "      <td>$459,005,868</td>\n",
       "      <td>$1,403,013,963</td>\n",
       "    </tr>\n",
       "    <tr>\n",
       "      <th>4</th>\n",
       "      <td>5</td>\n",
       "      <td>Dec 15, 2017</td>\n",
       "      <td>Star Wars Ep. VIII: The Last Jedi</td>\n",
       "      <td>$317,000,000</td>\n",
       "      <td>$620,181,382</td>\n",
       "      <td>$1,316,721,747</td>\n",
       "    </tr>\n",
       "  </tbody>\n",
       "</table>\n",
       "</div>"
      ],
      "text/plain": [
       "   id  release_date                                        movie  \\\n",
       "0   1  Dec 18, 2009                                       Avatar   \n",
       "1   2  May 20, 2011  Pirates of the Caribbean: On Stranger Tides   \n",
       "2   3   Jun 7, 2019                                 Dark Phoenix   \n",
       "3   4   May 1, 2015                      Avengers: Age of Ultron   \n",
       "4   5  Dec 15, 2017            Star Wars Ep. VIII: The Last Jedi   \n",
       "\n",
       "  production_budget domestic_gross worldwide_gross  \n",
       "0      $425,000,000   $760,507,625  $2,776,345,279  \n",
       "1      $410,600,000   $241,063,875  $1,045,663,875  \n",
       "2      $350,000,000    $42,762,350    $149,762,350  \n",
       "3      $330,600,000   $459,005,868  $1,403,013,963  \n",
       "4      $317,000,000   $620,181,382  $1,316,721,747  "
      ]
     },
<<<<<<< HEAD
<<<<<<< HEAD
     "execution_count": 71,
=======
     "execution_count": 9,
>>>>>>> 265b1cb... Add files via upload
=======
     "execution_count": 9,
>>>>>>> bbcfa70... Fine Tooth Revisions
     "metadata": {},
     "output_type": "execute_result"
    }
   ],
   "source": [
    "tn_movie_budgets.head()"
   ]
  },
  {
   "cell_type": "markdown",
   "metadata": {},
   "source": [
    "**Time to convert some currency to floats, and simplify the titles for tn_movie_budgets!**"
   ]
  },
  {
   "cell_type": "code",
<<<<<<< HEAD
<<<<<<< HEAD
   "execution_count": 72,
=======
   "execution_count": 10,
>>>>>>> 265b1cb... Add files via upload
=======
   "execution_count": 10,
>>>>>>> bbcfa70... Fine Tooth Revisions
   "metadata": {
    "scrolled": false
   },
   "outputs": [
    {
     "data": {
      "text/html": [
       "<div>\n",
       "<style scoped>\n",
       "    .dataframe tbody tr th:only-of-type {\n",
       "        vertical-align: middle;\n",
       "    }\n",
       "\n",
       "    .dataframe tbody tr th {\n",
       "        vertical-align: top;\n",
       "    }\n",
       "\n",
       "    .dataframe thead th {\n",
       "        text-align: right;\n",
       "    }\n",
       "</style>\n",
       "<table border=\"1\" class=\"dataframe\">\n",
       "  <thead>\n",
       "    <tr style=\"text-align: right;\">\n",
       "      <th></th>\n",
       "      <th>Id</th>\n",
       "      <th>Release_date</th>\n",
       "      <th>Title</th>\n",
       "      <th>Production_budget</th>\n",
       "      <th>Domestic_gross</th>\n",
       "      <th>Worldwide_gross</th>\n",
       "    </tr>\n",
       "  </thead>\n",
       "  <tbody>\n",
       "    <tr>\n",
       "      <th>0</th>\n",
       "      <td>1</td>\n",
       "      <td>Dec 18, 2009</td>\n",
       "      <td>Avatar</td>\n",
       "      <td>425000000.0</td>\n",
       "      <td>760507625.0</td>\n",
       "      <td>2.776345e+09</td>\n",
       "    </tr>\n",
       "    <tr>\n",
       "      <th>1</th>\n",
       "      <td>2</td>\n",
       "      <td>May 20, 2011</td>\n",
       "      <td>Pirates of the Caribbean: On Stranger Tides</td>\n",
       "      <td>410600000.0</td>\n",
       "      <td>241063875.0</td>\n",
       "      <td>1.045664e+09</td>\n",
       "    </tr>\n",
       "    <tr>\n",
       "      <th>2</th>\n",
       "      <td>3</td>\n",
       "      <td>Jun 7, 2019</td>\n",
       "      <td>Dark Phoenix</td>\n",
       "      <td>350000000.0</td>\n",
       "      <td>42762350.0</td>\n",
       "      <td>1.497624e+08</td>\n",
       "    </tr>\n",
       "    <tr>\n",
       "      <th>3</th>\n",
       "      <td>4</td>\n",
       "      <td>May 1, 2015</td>\n",
       "      <td>Avengers: Age of Ultron</td>\n",
       "      <td>330600000.0</td>\n",
       "      <td>459005868.0</td>\n",
       "      <td>1.403014e+09</td>\n",
       "    </tr>\n",
       "    <tr>\n",
       "      <th>4</th>\n",
       "      <td>5</td>\n",
       "      <td>Dec 15, 2017</td>\n",
       "      <td>Star Wars Ep. VIII: The Last Jedi</td>\n",
       "      <td>317000000.0</td>\n",
       "      <td>620181382.0</td>\n",
       "      <td>1.316722e+09</td>\n",
       "    </tr>\n",
       "    <tr>\n",
       "      <th>...</th>\n",
       "      <td>...</td>\n",
       "      <td>...</td>\n",
       "      <td>...</td>\n",
       "      <td>...</td>\n",
       "      <td>...</td>\n",
       "      <td>...</td>\n",
       "    </tr>\n",
       "    <tr>\n",
       "      <th>5777</th>\n",
       "      <td>78</td>\n",
       "      <td>Dec 31, 2018</td>\n",
       "      <td>Red 11</td>\n",
       "      <td>7000.0</td>\n",
       "      <td>0.0</td>\n",
       "      <td>0.000000e+00</td>\n",
       "    </tr>\n",
       "    <tr>\n",
       "      <th>5778</th>\n",
       "      <td>79</td>\n",
       "      <td>Apr 2, 1999</td>\n",
       "      <td>Following</td>\n",
       "      <td>6000.0</td>\n",
       "      <td>48482.0</td>\n",
       "      <td>2.404950e+05</td>\n",
       "    </tr>\n",
       "    <tr>\n",
       "      <th>5779</th>\n",
       "      <td>80</td>\n",
       "      <td>Jul 13, 2005</td>\n",
       "      <td>Return to the Land of Wonders</td>\n",
       "      <td>5000.0</td>\n",
       "      <td>1338.0</td>\n",
       "      <td>1.338000e+03</td>\n",
       "    </tr>\n",
       "    <tr>\n",
       "      <th>5780</th>\n",
       "      <td>81</td>\n",
       "      <td>Sep 29, 2015</td>\n",
       "      <td>A Plague So Pleasant</td>\n",
       "      <td>1400.0</td>\n",
       "      <td>0.0</td>\n",
       "      <td>0.000000e+00</td>\n",
       "    </tr>\n",
       "    <tr>\n",
       "      <th>5781</th>\n",
       "      <td>82</td>\n",
       "      <td>Aug 5, 2005</td>\n",
       "      <td>My Date With Drew</td>\n",
       "      <td>1100.0</td>\n",
       "      <td>181041.0</td>\n",
       "      <td>1.810410e+05</td>\n",
       "    </tr>\n",
       "  </tbody>\n",
       "</table>\n",
       "<p>5782 rows × 6 columns</p>\n",
       "</div>"
      ],
      "text/plain": [
       "      Id  Release_date                                        Title  \\\n",
       "0      1  Dec 18, 2009                                       Avatar   \n",
       "1      2  May 20, 2011  Pirates of the Caribbean: On Stranger Tides   \n",
       "2      3   Jun 7, 2019                                 Dark Phoenix   \n",
       "3      4   May 1, 2015                      Avengers: Age of Ultron   \n",
       "4      5  Dec 15, 2017            Star Wars Ep. VIII: The Last Jedi   \n",
       "...   ..           ...                                          ...   \n",
       "5777  78  Dec 31, 2018                                       Red 11   \n",
       "5778  79   Apr 2, 1999                                    Following   \n",
       "5779  80  Jul 13, 2005                Return to the Land of Wonders   \n",
       "5780  81  Sep 29, 2015                         A Plague So Pleasant   \n",
       "5781  82   Aug 5, 2005                            My Date With Drew   \n",
       "\n",
       "      Production_budget  Domestic_gross  Worldwide_gross  \n",
       "0           425000000.0     760507625.0     2.776345e+09  \n",
       "1           410600000.0     241063875.0     1.045664e+09  \n",
       "2           350000000.0      42762350.0     1.497624e+08  \n",
       "3           330600000.0     459005868.0     1.403014e+09  \n",
       "4           317000000.0     620181382.0     1.316722e+09  \n",
       "...                 ...             ...              ...  \n",
       "5777             7000.0             0.0     0.000000e+00  \n",
       "5778             6000.0         48482.0     2.404950e+05  \n",
       "5779             5000.0          1338.0     1.338000e+03  \n",
       "5780             1400.0             0.0     0.000000e+00  \n",
       "5781             1100.0        181041.0     1.810410e+05  \n",
       "\n",
       "[5782 rows x 6 columns]"
      ]
     },
<<<<<<< HEAD
<<<<<<< HEAD
     "execution_count": 72,
=======
     "execution_count": 10,
>>>>>>> 265b1cb... Add files via upload
=======
     "execution_count": 10,
>>>>>>> bbcfa70... Fine Tooth Revisions
     "metadata": {},
     "output_type": "execute_result"
    }
   ],
   "source": [
    "tn_movie_budgets[tn_movie_budgets.columns[3:]] = tn_movie_budgets[tn_movie_budgets.columns[3:]].replace('[\\$,]', '', regex=True).astype(float)\n",
    "tn_movie_budgets = tn_movie_budgets.rename(columns={\"movie\": \"title\"}, errors=\"raise\")\n",
    "tn_movie_budgets.columns = tn_movie_budgets.columns.str.capitalize()\n",
    "tn_movie_budgets"
   ]
  },
  {
   "cell_type": "code",
   "execution_count": 11,
   "metadata": {},
   "outputs": [
    {
     "data": {
      "text/html": [
       "<div>\n",
       "<style scoped>\n",
       "    .dataframe tbody tr th:only-of-type {\n",
       "        vertical-align: middle;\n",
       "    }\n",
       "\n",
       "    .dataframe tbody tr th {\n",
       "        vertical-align: top;\n",
       "    }\n",
       "\n",
       "    .dataframe thead th {\n",
       "        text-align: right;\n",
       "    }\n",
       "</style>\n",
       "<table border=\"1\" class=\"dataframe\">\n",
       "  <thead>\n",
       "    <tr style=\"text-align: right;\">\n",
       "      <th></th>\n",
       "      <th>Id</th>\n",
       "      <th>Release_date</th>\n",
       "      <th>Title</th>\n",
       "      <th>Production_budget</th>\n",
       "      <th>Domestic_gross</th>\n",
       "      <th>Worldwide_gross</th>\n",
       "    </tr>\n",
       "  </thead>\n",
       "  <tbody>\n",
       "    <tr>\n",
       "      <th>3756</th>\n",
       "      <td>57</td>\n",
       "      <td>Mar 19, 2010</td>\n",
       "      <td>The Runaways</td>\n",
       "      <td>9500000.0</td>\n",
       "      <td>3573673.0</td>\n",
       "      <td>5278632.0</td>\n",
       "    </tr>\n",
       "  </tbody>\n",
       "</table>\n",
       "</div>"
      ],
      "text/plain": [
       "      Id  Release_date         Title  Production_budget  Domestic_gross  \\\n",
       "3756  57  Mar 19, 2010  The Runaways          9500000.0       3573673.0   \n",
       "\n",
       "      Worldwide_gross  \n",
       "3756        5278632.0  "
      ]
     },
     "execution_count": 11,
     "metadata": {},
     "output_type": "execute_result"
    }
   ],
   "source": [
    "tn_movie_budgets_the_runaways = tn_movie_budgets[tn_movie_budgets['Title'].str.contains('Runaways')]\n",
    "tn_movie_budgets_the_runaways"
   ]
  },
  {
   "cell_type": "markdown",
   "metadata": {},
   "source": [
    "**FUN! Now, let's combine tn_movie with some others, shall we?**\n"
   ]
  },
  {
   "cell_type": "code",
<<<<<<< HEAD
<<<<<<< HEAD
   "execution_count": 73,
=======
   "execution_count": 11,
>>>>>>> 265b1cb... Add files via upload
=======
   "execution_count": 12,
>>>>>>> bbcfa70... Fine Tooth Revisions
   "metadata": {},
   "outputs": [
    {
     "data": {
      "text/html": [
       "<div>\n",
       "<style scoped>\n",
       "    .dataframe tbody tr th:only-of-type {\n",
       "        vertical-align: middle;\n",
       "    }\n",
       "\n",
       "    .dataframe tbody tr th {\n",
       "        vertical-align: top;\n",
       "    }\n",
       "\n",
       "    .dataframe thead th {\n",
       "        text-align: right;\n",
       "    }\n",
       "</style>\n",
       "<table border=\"1\" class=\"dataframe\">\n",
       "  <thead>\n",
       "    <tr style=\"text-align: right;\">\n",
       "      <th></th>\n",
       "      <th>Id</th>\n",
       "      <th>Release_date</th>\n",
       "      <th>Title</th>\n",
       "      <th>Production_budget</th>\n",
       "      <th>Domestic_gross</th>\n",
       "      <th>Worldwide_gross</th>\n",
       "      <th>rt_rating</th>\n",
       "      <th>pa_rating</th>\n",
       "    </tr>\n",
       "  </thead>\n",
       "  <tbody>\n",
       "    <tr>\n",
       "      <th>0</th>\n",
       "      <td>1</td>\n",
       "      <td>12</td>\n",
       "      <td>Avatar</td>\n",
       "      <td>425000000.0</td>\n",
       "      <td>760507625.0</td>\n",
       "      <td>2.776345e+09</td>\n",
       "      <td>NaN</td>\n",
       "      <td>NaN</td>\n",
       "    </tr>\n",
       "    <tr>\n",
       "      <th>1</th>\n",
       "      <td>2</td>\n",
       "      <td>5</td>\n",
       "      <td>Pirates of the Caribbean: On Stranger Tides</td>\n",
       "      <td>410600000.0</td>\n",
       "      <td>241063875.0</td>\n",
       "      <td>1.045664e+09</td>\n",
       "      <td>NaN</td>\n",
       "      <td>NaN</td>\n",
       "    </tr>\n",
       "    <tr>\n",
       "      <th>2</th>\n",
       "      <td>3</td>\n",
       "      <td>6</td>\n",
       "      <td>Dark Phoenix</td>\n",
       "      <td>350000000.0</td>\n",
       "      <td>42762350.0</td>\n",
       "      <td>1.497624e+08</td>\n",
       "      <td>3/5</td>\n",
       "      <td>R</td>\n",
       "    </tr>\n",
       "    <tr>\n",
       "      <th>165</th>\n",
       "      <td>4</td>\n",
       "      <td>5</td>\n",
       "      <td>Avengers: Age of Ultron</td>\n",
       "      <td>330600000.0</td>\n",
       "      <td>459005868.0</td>\n",
       "      <td>1.403014e+09</td>\n",
       "      <td>NaN</td>\n",
       "      <td>NaN</td>\n",
       "    </tr>\n",
       "    <tr>\n",
       "      <th>166</th>\n",
       "      <td>5</td>\n",
       "      <td>12</td>\n",
       "      <td>Star Wars Ep. VIII: The Last Jedi</td>\n",
       "      <td>317000000.0</td>\n",
       "      <td>620181382.0</td>\n",
       "      <td>1.316722e+09</td>\n",
       "      <td>NaN</td>\n",
       "      <td>R</td>\n",
       "    </tr>\n",
       "    <tr>\n",
       "      <th>...</th>\n",
       "      <td>...</td>\n",
       "      <td>...</td>\n",
       "      <td>...</td>\n",
       "      <td>...</td>\n",
       "      <td>...</td>\n",
       "      <td>...</td>\n",
       "      <td>...</td>\n",
       "      <td>...</td>\n",
       "    </tr>\n",
       "    <tr>\n",
       "      <th>187277</th>\n",
       "      <td>78</td>\n",
       "      <td>12</td>\n",
       "      <td>Red 11</td>\n",
       "      <td>7000.0</td>\n",
       "      <td>0.0</td>\n",
       "      <td>0.000000e+00</td>\n",
       "      <td>NaN</td>\n",
       "      <td>NaN</td>\n",
       "    </tr>\n",
       "    <tr>\n",
       "      <th>187278</th>\n",
       "      <td>79</td>\n",
       "      <td>4</td>\n",
       "      <td>Following</td>\n",
       "      <td>6000.0</td>\n",
       "      <td>48482.0</td>\n",
       "      <td>2.404950e+05</td>\n",
       "      <td>B-</td>\n",
       "      <td>R</td>\n",
       "    </tr>\n",
       "    <tr>\n",
       "      <th>187296</th>\n",
       "      <td>80</td>\n",
       "      <td>7</td>\n",
       "      <td>Return to the Land of Wonders</td>\n",
       "      <td>5000.0</td>\n",
       "      <td>1338.0</td>\n",
       "      <td>1.338000e+03</td>\n",
       "      <td>B-</td>\n",
       "      <td>NR</td>\n",
       "    </tr>\n",
       "    <tr>\n",
       "      <th>187311</th>\n",
       "      <td>81</td>\n",
       "      <td>9</td>\n",
       "      <td>A Plague So Pleasant</td>\n",
       "      <td>1400.0</td>\n",
       "      <td>0.0</td>\n",
       "      <td>0.000000e+00</td>\n",
       "      <td>NaN</td>\n",
       "      <td>NaN</td>\n",
       "    </tr>\n",
       "    <tr>\n",
       "      <th>187312</th>\n",
       "      <td>82</td>\n",
       "      <td>8</td>\n",
       "      <td>My Date With Drew</td>\n",
       "      <td>1100.0</td>\n",
       "      <td>181041.0</td>\n",
       "      <td>1.810410e+05</td>\n",
       "      <td>4/5</td>\n",
       "      <td>R</td>\n",
       "    </tr>\n",
       "  </tbody>\n",
       "</table>\n",
       "<p>5698 rows × 8 columns</p>\n",
       "</div>"
      ],
      "text/plain": [
       "        Id  Release_date                                        Title  \\\n",
       "0        1            12                                       Avatar   \n",
       "1        2             5  Pirates of the Caribbean: On Stranger Tides   \n",
       "2        3             6                                 Dark Phoenix   \n",
       "165      4             5                      Avengers: Age of Ultron   \n",
       "166      5            12            Star Wars Ep. VIII: The Last Jedi   \n",
       "...     ..           ...                                          ...   \n",
       "187277  78            12                                       Red 11   \n",
       "187278  79             4                                    Following   \n",
       "187296  80             7                Return to the Land of Wonders   \n",
       "187311  81             9                         A Plague So Pleasant   \n",
       "187312  82             8                            My Date With Drew   \n",
       "\n",
       "        Production_budget  Domestic_gross  Worldwide_gross rt_rating pa_rating  \n",
       "0             425000000.0     760507625.0     2.776345e+09       NaN       NaN  \n",
       "1             410600000.0     241063875.0     1.045664e+09       NaN       NaN  \n",
       "2             350000000.0      42762350.0     1.497624e+08       3/5         R  \n",
       "165           330600000.0     459005868.0     1.403014e+09       NaN       NaN  \n",
       "166           317000000.0     620181382.0     1.316722e+09       NaN         R  \n",
       "...                   ...             ...              ...       ...       ...  \n",
       "187277             7000.0             0.0     0.000000e+00       NaN       NaN  \n",
       "187278             6000.0         48482.0     2.404950e+05        B-         R  \n",
       "187296             5000.0          1338.0     1.338000e+03        B-        NR  \n",
       "187311             1400.0             0.0     0.000000e+00       NaN       NaN  \n",
       "187312             1100.0        181041.0     1.810410e+05       4/5         R  \n",
       "\n",
       "[5698 rows x 8 columns]"
      ]
     },
<<<<<<< HEAD
<<<<<<< HEAD
     "execution_count": 73,
=======
     "execution_count": 11,
>>>>>>> 265b1cb... Add files via upload
=======
     "execution_count": 12,
>>>>>>> bbcfa70... Fine Tooth Revisions
     "metadata": {},
     "output_type": "execute_result"
    }
   ],
   "source": [
    "movie_budgets = tn_movie_budgets.merge(ratings_and_beyond[['rating_x', 'rating_y', 'Id']], on = 'Id', how = 'left')\n",
    "movie_budgets = movie_budgets.drop_duplicates(subset=['Title'], inplace=False)\n",
    "movie_budgets = movie_budgets.rename(columns={\"rating_x\": \"rt_rating\", \"rating_y\": \"pa_rating\"}, errors=\"raise\")\n",
    "movie_budgets['Release_date'] = pd.to_datetime(movie_budgets['Release_date']).dt.month\n",
    "movie_budgets"
   ]
  },
  {
<<<<<<< HEAD
   "cell_type": "code",
<<<<<<< HEAD
   "execution_count": 74,
=======
   "execution_count": 12,
>>>>>>> 265b1cb... Add files via upload
   "metadata": {},
   "outputs": [
    {
     "name": "stdout",
     "output_type": "stream",
     "text": [
      "Parental advisory Nans: 2391 of 5698\n",
      "Rotten Tomatoes Nans: 3416 of 5698\n"
     ]
    }
   ],
   "source": [
    "print(\"Parental advisory Nans:\", movie_budgets['pa_rating'].isna().sum(), \"of\", movie_budgets.shape[0])\n",
    "print(\"Rotten Tomatoes Nans:\", movie_budgets['rt_rating'].isna().sum(), \"of\", movie_budgets.shape[0])"
   ]
  },
  {
   "cell_type": "markdown",
   "metadata": {},
   "source": [
    "Since nearly half of the parental advosiry cells are made up of Nans and well over half of the Rotten Tomatoes ratings are Nans, I have chosen to move on to using other data I have to gain insight."
   ]
  },
  {
=======
>>>>>>> bbcfa70... Fine Tooth Revisions
   "cell_type": "markdown",
   "metadata": {},
   "source": [
    "Now that we have out movie_budgets and ratings_and_beyond, let's look at our final bit of data. \n"
   ]
  },
  {
   "cell_type": "code",
<<<<<<< HEAD
<<<<<<< HEAD
   "execution_count": 75,
=======
   "execution_count": 13,
>>>>>>> 265b1cb... Add files via upload
=======
   "execution_count": 13,
>>>>>>> bbcfa70... Fine Tooth Revisions
   "metadata": {
    "scrolled": true
   },
   "outputs": [
    {
     "data": {
      "text/html": [
       "<div>\n",
       "<style scoped>\n",
       "    .dataframe tbody tr th:only-of-type {\n",
       "        vertical-align: middle;\n",
       "    }\n",
       "\n",
       "    .dataframe tbody tr th {\n",
       "        vertical-align: top;\n",
       "    }\n",
       "\n",
       "    .dataframe thead th {\n",
       "        text-align: right;\n",
       "    }\n",
       "</style>\n",
       "<table border=\"1\" class=\"dataframe\">\n",
       "  <thead>\n",
       "    <tr style=\"text-align: right;\">\n",
       "      <th></th>\n",
       "      <th>Title</th>\n",
       "      <th>original_title</th>\n",
       "      <th>averagerating</th>\n",
       "      <th>runtime_minutes</th>\n",
       "      <th>start_year</th>\n",
       "      <th>genres</th>\n",
       "      <th>region</th>\n",
       "      <th>category</th>\n",
       "      <th>primary_name</th>\n",
       "    </tr>\n",
       "  </thead>\n",
       "  <tbody>\n",
       "    <tr>\n",
       "      <th>0</th>\n",
       "      <td>The Wicker Tree</td>\n",
       "      <td>The Wicker Tree</td>\n",
       "      <td>3.9</td>\n",
       "      <td>96.0</td>\n",
       "      <td>2011</td>\n",
       "      <td>Drama,Horror</td>\n",
       "      <td>None</td>\n",
       "      <td>director</td>\n",
       "      <td>Robin Hardy</td>\n",
       "    </tr>\n",
       "    <tr>\n",
       "      <th>1</th>\n",
       "      <td>The Wicker Tree</td>\n",
       "      <td>The Wicker Tree</td>\n",
       "      <td>3.9</td>\n",
       "      <td>96.0</td>\n",
       "      <td>2011</td>\n",
       "      <td>Drama,Horror</td>\n",
       "      <td>BR</td>\n",
       "      <td>director</td>\n",
       "      <td>Robin Hardy</td>\n",
       "    </tr>\n",
       "    <tr>\n",
       "      <th>2</th>\n",
       "      <td>The Wicker Tree</td>\n",
       "      <td>The Wicker Tree</td>\n",
       "      <td>3.9</td>\n",
       "      <td>96.0</td>\n",
       "      <td>2011</td>\n",
       "      <td>Drama,Horror</td>\n",
       "      <td>GB</td>\n",
       "      <td>director</td>\n",
       "      <td>Robin Hardy</td>\n",
       "    </tr>\n",
       "    <tr>\n",
       "      <th>3</th>\n",
       "      <td>The Wicker Tree</td>\n",
       "      <td>The Wicker Tree</td>\n",
       "      <td>3.9</td>\n",
       "      <td>96.0</td>\n",
       "      <td>2011</td>\n",
       "      <td>Drama,Horror</td>\n",
       "      <td>GB</td>\n",
       "      <td>director</td>\n",
       "      <td>Robin Hardy</td>\n",
       "    </tr>\n",
       "    <tr>\n",
       "      <th>4</th>\n",
       "      <td>The Wicker Tree</td>\n",
       "      <td>The Wicker Tree</td>\n",
       "      <td>3.9</td>\n",
       "      <td>96.0</td>\n",
       "      <td>2011</td>\n",
       "      <td>Drama,Horror</td>\n",
       "      <td>GB</td>\n",
       "      <td>director</td>\n",
       "      <td>Robin Hardy</td>\n",
       "    </tr>\n",
       "    <tr>\n",
       "      <th>...</th>\n",
       "      <td>...</td>\n",
       "      <td>...</td>\n",
       "      <td>...</td>\n",
       "      <td>...</td>\n",
       "      <td>...</td>\n",
       "      <td>...</td>\n",
       "      <td>...</td>\n",
       "      <td>...</td>\n",
       "      <td>...</td>\n",
       "    </tr>\n",
       "    <tr>\n",
       "      <th>278705</th>\n",
       "      <td>A Russian Youth</td>\n",
       "      <td>Malchik russkiy</td>\n",
       "      <td>6.6</td>\n",
       "      <td>72.0</td>\n",
       "      <td>2019</td>\n",
       "      <td>Drama,War</td>\n",
       "      <td>None</td>\n",
       "      <td>director</td>\n",
       "      <td>Alexander Zolotukhin</td>\n",
       "    </tr>\n",
       "    <tr>\n",
       "      <th>278706</th>\n",
       "      <td>A Russian Youth</td>\n",
       "      <td>Malchik russkiy</td>\n",
       "      <td>6.6</td>\n",
       "      <td>72.0</td>\n",
       "      <td>2019</td>\n",
       "      <td>Drama,War</td>\n",
       "      <td>FR</td>\n",
       "      <td>director</td>\n",
       "      <td>Alexander Zolotukhin</td>\n",
       "    </tr>\n",
       "    <tr>\n",
       "      <th>278707</th>\n",
       "      <td>A Russian Youth</td>\n",
       "      <td>Malchik russkiy</td>\n",
       "      <td>6.6</td>\n",
       "      <td>72.0</td>\n",
       "      <td>2019</td>\n",
       "      <td>Drama,War</td>\n",
       "      <td>RU</td>\n",
       "      <td>director</td>\n",
       "      <td>Alexander Zolotukhin</td>\n",
       "    </tr>\n",
       "    <tr>\n",
       "      <th>278708</th>\n",
       "      <td>A Russian Youth</td>\n",
       "      <td>Malchik russkiy</td>\n",
       "      <td>6.6</td>\n",
       "      <td>72.0</td>\n",
       "      <td>2019</td>\n",
       "      <td>Drama,War</td>\n",
       "      <td>RU</td>\n",
       "      <td>director</td>\n",
       "      <td>Alexander Zolotukhin</td>\n",
       "    </tr>\n",
       "    <tr>\n",
       "      <th>278709</th>\n",
       "      <td>A Russian Youth</td>\n",
       "      <td>Malchik russkiy</td>\n",
       "      <td>6.6</td>\n",
       "      <td>72.0</td>\n",
       "      <td>2019</td>\n",
       "      <td>Drama,War</td>\n",
       "      <td>XWW</td>\n",
       "      <td>director</td>\n",
       "      <td>Alexander Zolotukhin</td>\n",
       "    </tr>\n",
       "  </tbody>\n",
       "</table>\n",
       "<p>278710 rows × 9 columns</p>\n",
       "</div>"
      ],
      "text/plain": [
       "                  Title   original_title  averagerating  runtime_minutes  \\\n",
       "0       The Wicker Tree  The Wicker Tree            3.9             96.0   \n",
       "1       The Wicker Tree  The Wicker Tree            3.9             96.0   \n",
       "2       The Wicker Tree  The Wicker Tree            3.9             96.0   \n",
       "3       The Wicker Tree  The Wicker Tree            3.9             96.0   \n",
       "4       The Wicker Tree  The Wicker Tree            3.9             96.0   \n",
       "...                 ...              ...            ...              ...   \n",
       "278705  A Russian Youth  Malchik russkiy            6.6             72.0   \n",
       "278706  A Russian Youth  Malchik russkiy            6.6             72.0   \n",
       "278707  A Russian Youth  Malchik russkiy            6.6             72.0   \n",
       "278708  A Russian Youth  Malchik russkiy            6.6             72.0   \n",
       "278709  A Russian Youth  Malchik russkiy            6.6             72.0   \n",
       "\n",
       "        start_year        genres region  category          primary_name  \n",
       "0             2011  Drama,Horror   None  director           Robin Hardy  \n",
       "1             2011  Drama,Horror     BR  director           Robin Hardy  \n",
       "2             2011  Drama,Horror     GB  director           Robin Hardy  \n",
       "3             2011  Drama,Horror     GB  director           Robin Hardy  \n",
       "4             2011  Drama,Horror     GB  director           Robin Hardy  \n",
       "...            ...           ...    ...       ...                   ...  \n",
       "278705        2019     Drama,War   None  director  Alexander Zolotukhin  \n",
       "278706        2019     Drama,War     FR  director  Alexander Zolotukhin  \n",
       "278707        2019     Drama,War     RU  director  Alexander Zolotukhin  \n",
       "278708        2019     Drama,War     RU  director  Alexander Zolotukhin  \n",
       "278709        2019     Drama,War    XWW  director  Alexander Zolotukhin  \n",
       "\n",
       "[278710 rows x 9 columns]"
      ]
     },
<<<<<<< HEAD
<<<<<<< HEAD
     "execution_count": 75,
=======
     "execution_count": 13,
>>>>>>> 265b1cb... Add files via upload
=======
     "execution_count": 13,
>>>>>>> bbcfa70... Fine Tooth Revisions
     "metadata": {},
     "output_type": "execute_result"
    }
   ],
   "source": [
    "imdb_db2 = pd.read_sql(\"\"\"\n",
    "SELECT \n",
    "    movie_basics.primary_title,\n",
    "    movie_basics.original_title,\n",
    "    movie_ratings.averagerating,\n",
    "    movie_basics.runtime_minutes,\n",
    "    movie_basics.start_year,\n",
    "    movie_basics.genres, \n",
    "    movie_akas.region,\n",
    "    principals.category, \n",
    "    persons.primary_name\n",
    "  FROM movie_basics\n",
    "  JOIN movie_ratings\n",
    "      USING (movie_id)\n",
    "  JOIN movie_akas\n",
    "      USING (movie_id)\n",
    "  JOIN principals\n",
    "      USING (movie_id)\n",
    "  JOIN persons\n",
    "      USING (person_id)\n",
    "      WHERE category = \"director\"\n",
    " ;\n",
    "\"\"\", imdb_db)\n",
    "imdb_db2 =  imdb_db2.rename(columns={\"primary_title\": \"Title\"}, errors=\"raise\")\n",
    "imdb_db2"
   ]
  },
  {
   "cell_type": "markdown",
   "metadata": {},
   "source": [
    "Gorgeous! Now let's merge it with our movie budgets data!"
   ]
  },
  {
   "cell_type": "code",
<<<<<<< HEAD
<<<<<<< HEAD
   "execution_count": 76,
=======
   "execution_count": 14,
>>>>>>> 265b1cb... Add files via upload
=======
   "execution_count": 14,
>>>>>>> bbcfa70... Fine Tooth Revisions
   "metadata": {},
   "outputs": [
    {
     "data": {
      "text/html": [
       "<div>\n",
       "<style scoped>\n",
       "    .dataframe tbody tr th:only-of-type {\n",
       "        vertical-align: middle;\n",
       "    }\n",
       "\n",
       "    .dataframe tbody tr th {\n",
       "        vertical-align: top;\n",
       "    }\n",
       "\n",
       "    .dataframe thead th {\n",
       "        text-align: right;\n",
       "    }\n",
       "</style>\n",
       "<table border=\"1\" class=\"dataframe\">\n",
       "  <thead>\n",
       "    <tr style=\"text-align: right;\">\n",
       "      <th></th>\n",
       "      <th>Id</th>\n",
       "      <th>Release_date</th>\n",
       "      <th>Title</th>\n",
       "      <th>Production_budget</th>\n",
       "      <th>Domestic_gross</th>\n",
       "      <th>Worldwide_gross</th>\n",
       "      <th>rt_rating</th>\n",
       "      <th>pa_rating</th>\n",
       "      <th>averagerating</th>\n",
       "      <th>runtime_minutes</th>\n",
       "      <th>genres</th>\n",
       "    </tr>\n",
       "  </thead>\n",
       "  <tbody>\n",
       "    <tr>\n",
       "      <th>0</th>\n",
       "      <td>1</td>\n",
       "      <td>12</td>\n",
       "      <td>Avatar</td>\n",
       "      <td>425000000.0</td>\n",
       "      <td>760507625.0</td>\n",
       "      <td>2.776345e+09</td>\n",
       "      <td>NaN</td>\n",
       "      <td>NaN</td>\n",
       "      <td>6.1</td>\n",
       "      <td>93.0</td>\n",
       "      <td>Horror</td>\n",
       "    </tr>\n",
       "    <tr>\n",
       "      <th>3</th>\n",
       "      <td>2</td>\n",
       "      <td>5</td>\n",
       "      <td>Pirates of the Caribbean: On Stranger Tides</td>\n",
       "      <td>410600000.0</td>\n",
       "      <td>241063875.0</td>\n",
       "      <td>1.045664e+09</td>\n",
       "      <td>NaN</td>\n",
       "      <td>NaN</td>\n",
       "      <td>6.6</td>\n",
       "      <td>136.0</td>\n",
       "      <td>Action,Adventure,Fantasy</td>\n",
       "    </tr>\n",
       "    <tr>\n",
       "      <th>49</th>\n",
       "      <td>3</td>\n",
       "      <td>6</td>\n",
       "      <td>Dark Phoenix</td>\n",
       "      <td>350000000.0</td>\n",
       "      <td>42762350.0</td>\n",
       "      <td>1.497624e+08</td>\n",
       "      <td>3/5</td>\n",
       "      <td>R</td>\n",
       "      <td>6.0</td>\n",
       "      <td>113.0</td>\n",
       "      <td>Action,Adventure,Sci-Fi</td>\n",
       "    </tr>\n",
       "    <tr>\n",
       "      <th>84</th>\n",
       "      <td>4</td>\n",
       "      <td>5</td>\n",
       "      <td>Avengers: Age of Ultron</td>\n",
       "      <td>330600000.0</td>\n",
       "      <td>459005868.0</td>\n",
       "      <td>1.403014e+09</td>\n",
       "      <td>NaN</td>\n",
       "      <td>NaN</td>\n",
       "      <td>7.3</td>\n",
       "      <td>141.0</td>\n",
       "      <td>Action,Adventure,Sci-Fi</td>\n",
       "    </tr>\n",
       "    <tr>\n",
       "      <th>125</th>\n",
       "      <td>5</td>\n",
       "      <td>12</td>\n",
       "      <td>Star Wars Ep. VIII: The Last Jedi</td>\n",
       "      <td>317000000.0</td>\n",
       "      <td>620181382.0</td>\n",
       "      <td>1.316722e+09</td>\n",
       "      <td>NaN</td>\n",
       "      <td>R</td>\n",
       "      <td>NaN</td>\n",
       "      <td>NaN</td>\n",
       "      <td>NaN</td>\n",
       "    </tr>\n",
       "    <tr>\n",
       "      <th>...</th>\n",
       "      <td>...</td>\n",
       "      <td>...</td>\n",
       "      <td>...</td>\n",
       "      <td>...</td>\n",
       "      <td>...</td>\n",
       "      <td>...</td>\n",
       "      <td>...</td>\n",
       "      <td>...</td>\n",
       "      <td>...</td>\n",
       "      <td>...</td>\n",
       "      <td>...</td>\n",
       "    </tr>\n",
       "    <tr>\n",
       "      <th>50205</th>\n",
       "      <td>78</td>\n",
       "      <td>12</td>\n",
       "      <td>Red 11</td>\n",
       "      <td>7000.0</td>\n",
       "      <td>0.0</td>\n",
       "      <td>0.000000e+00</td>\n",
       "      <td>NaN</td>\n",
       "      <td>NaN</td>\n",
       "      <td>5.6</td>\n",
       "      <td>77.0</td>\n",
       "      <td>Horror,Sci-Fi,Thriller</td>\n",
       "    </tr>\n",
       "    <tr>\n",
       "      <th>50208</th>\n",
       "      <td>79</td>\n",
       "      <td>4</td>\n",
       "      <td>Following</td>\n",
       "      <td>6000.0</td>\n",
       "      <td>48482.0</td>\n",
       "      <td>2.404950e+05</td>\n",
       "      <td>B-</td>\n",
       "      <td>R</td>\n",
       "      <td>NaN</td>\n",
       "      <td>NaN</td>\n",
       "      <td>NaN</td>\n",
       "    </tr>\n",
       "    <tr>\n",
       "      <th>50209</th>\n",
       "      <td>80</td>\n",
       "      <td>7</td>\n",
       "      <td>Return to the Land of Wonders</td>\n",
       "      <td>5000.0</td>\n",
       "      <td>1338.0</td>\n",
       "      <td>1.338000e+03</td>\n",
       "      <td>B-</td>\n",
       "      <td>NR</td>\n",
       "      <td>NaN</td>\n",
       "      <td>NaN</td>\n",
       "      <td>NaN</td>\n",
       "    </tr>\n",
       "    <tr>\n",
       "      <th>50210</th>\n",
       "      <td>81</td>\n",
       "      <td>9</td>\n",
       "      <td>A Plague So Pleasant</td>\n",
       "      <td>1400.0</td>\n",
       "      <td>0.0</td>\n",
       "      <td>0.000000e+00</td>\n",
       "      <td>NaN</td>\n",
       "      <td>NaN</td>\n",
       "      <td>5.4</td>\n",
       "      <td>76.0</td>\n",
       "      <td>Drama,Horror,Thriller</td>\n",
       "    </tr>\n",
       "    <tr>\n",
       "      <th>50212</th>\n",
       "      <td>82</td>\n",
       "      <td>8</td>\n",
       "      <td>My Date With Drew</td>\n",
       "      <td>1100.0</td>\n",
       "      <td>181041.0</td>\n",
       "      <td>1.810410e+05</td>\n",
       "      <td>4/5</td>\n",
       "      <td>R</td>\n",
       "      <td>NaN</td>\n",
       "      <td>NaN</td>\n",
       "      <td>NaN</td>\n",
       "    </tr>\n",
       "  </tbody>\n",
       "</table>\n",
       "<p>5698 rows × 11 columns</p>\n",
       "</div>"
      ],
      "text/plain": [
       "       Id  Release_date                                        Title  \\\n",
       "0       1            12                                       Avatar   \n",
       "3       2             5  Pirates of the Caribbean: On Stranger Tides   \n",
       "49      3             6                                 Dark Phoenix   \n",
       "84      4             5                      Avengers: Age of Ultron   \n",
       "125     5            12            Star Wars Ep. VIII: The Last Jedi   \n",
       "...    ..           ...                                          ...   \n",
       "50205  78            12                                       Red 11   \n",
       "50208  79             4                                    Following   \n",
       "50209  80             7                Return to the Land of Wonders   \n",
       "50210  81             9                         A Plague So Pleasant   \n",
       "50212  82             8                            My Date With Drew   \n",
       "\n",
       "       Production_budget  Domestic_gross  Worldwide_gross rt_rating pa_rating  \\\n",
       "0            425000000.0     760507625.0     2.776345e+09       NaN       NaN   \n",
       "3            410600000.0     241063875.0     1.045664e+09       NaN       NaN   \n",
       "49           350000000.0      42762350.0     1.497624e+08       3/5         R   \n",
       "84           330600000.0     459005868.0     1.403014e+09       NaN       NaN   \n",
       "125          317000000.0     620181382.0     1.316722e+09       NaN         R   \n",
       "...                  ...             ...              ...       ...       ...   \n",
       "50205             7000.0             0.0     0.000000e+00       NaN       NaN   \n",
       "50208             6000.0         48482.0     2.404950e+05        B-         R   \n",
       "50209             5000.0          1338.0     1.338000e+03        B-        NR   \n",
       "50210             1400.0             0.0     0.000000e+00       NaN       NaN   \n",
       "50212             1100.0        181041.0     1.810410e+05       4/5         R   \n",
       "\n",
       "       averagerating  runtime_minutes                    genres  \n",
       "0                6.1             93.0                    Horror  \n",
       "3                6.6            136.0  Action,Adventure,Fantasy  \n",
       "49               6.0            113.0   Action,Adventure,Sci-Fi  \n",
       "84               7.3            141.0   Action,Adventure,Sci-Fi  \n",
       "125              NaN              NaN                       NaN  \n",
       "...              ...              ...                       ...  \n",
       "50205            5.6             77.0    Horror,Sci-Fi,Thriller  \n",
       "50208            NaN              NaN                       NaN  \n",
       "50209            NaN              NaN                       NaN  \n",
       "50210            5.4             76.0     Drama,Horror,Thriller  \n",
       "50212            NaN              NaN                       NaN  \n",
       "\n",
       "[5698 rows x 11 columns]"
      ]
     },
<<<<<<< HEAD
<<<<<<< HEAD
     "execution_count": 76,
=======
     "execution_count": 14,
>>>>>>> 265b1cb... Add files via upload
=======
     "execution_count": 14,
>>>>>>> bbcfa70... Fine Tooth Revisions
     "metadata": {},
     "output_type": "execute_result"
    }
   ],
   "source": [
    "merge_it = movie_budgets.merge(imdb_db2[['averagerating', 'runtime_minutes', 'genres', 'Title']], on = 'Title', how = 'left')\n",
    "merge_it = merge_it.drop_duplicates(subset=['Title'], inplace=False)\n",
<<<<<<< HEAD
    "merge_it\n"
=======
    "merge_it"
>>>>>>> 265b1cb... Add files via upload
   ]
  },
  {
   "cell_type": "markdown",
   "metadata": {},
   "source": [
    "# Calulations And Visuals\n",
    "\n",
    "Now let's take all those dataframes and really work some magic!\n"
   ]
  },
  {
   "cell_type": "code",
<<<<<<< HEAD
<<<<<<< HEAD
   "execution_count": 77,
=======
   "execution_count": 15,
>>>>>>> 265b1cb... Add files via upload
=======
   "execution_count": 15,
>>>>>>> bbcfa70... Fine Tooth Revisions
   "metadata": {},
   "outputs": [],
   "source": [
    "import matplotlib.pyplot as plt"
   ]
  },
  {
   "cell_type": "markdown",
   "metadata": {},
   "source": [
    "## All things money... (movie_budgets)\n",
    " \n",
    "           *Budgets - Worst Case, Best Case, Average Case¶\n",
    "           *Budget vs. ROI\n",
    "           *Budget vs. Gross Worldwide\n",
    "           *Release Date vs. Domestic Gross\n",
    "  "
   ]
  },
  {
   "cell_type": "markdown",
   "metadata": {},
   "source": [
    "## Budgets - Worst Case, Best Case, Average Case"
   ]
  },
  {
   "cell_type": "code",
<<<<<<< HEAD
<<<<<<< HEAD
   "execution_count": 78,
=======
   "execution_count": 83,
>>>>>>> 265b1cb... Add files via upload
=======
   "execution_count": 41,
>>>>>>> bbcfa70... Fine Tooth Revisions
   "metadata": {},
   "outputs": [
    {
     "data": {
      "text/html": [
       "<div>\n",
       "<style scoped>\n",
       "    .dataframe tbody tr th:only-of-type {\n",
       "        vertical-align: middle;\n",
       "    }\n",
       "\n",
       "    .dataframe tbody tr th {\n",
       "        vertical-align: top;\n",
       "    }\n",
       "\n",
       "    .dataframe thead th {\n",
       "        text-align: right;\n",
       "    }\n",
       "</style>\n",
       "<table border=\"1\" class=\"dataframe\">\n",
       "  <thead>\n",
       "    <tr style=\"text-align: right;\">\n",
       "      <th></th>\n",
       "      <th>index</th>\n",
       "      <th>Production_budget</th>\n",
<<<<<<< HEAD
=======
       "      <th>Domestic_gross</th>\n",
       "      <th>ROI</th>\n",
>>>>>>> 265b1cb... Add files via upload
       "    </tr>\n",
       "  </thead>\n",
       "  <tbody>\n",
       "    <tr>\n",
<<<<<<< HEAD
       "      <th>0</th>\n",
       "      <td>0.0</td>\n",
       "      <td>425.0</td>\n",
       "    </tr>\n",
       "    <tr>\n",
       "      <th>1</th>\n",
       "      <td>0.0</td>\n",
       "      <td>410.0</td>\n",
       "    </tr>\n",
       "    <tr>\n",
       "      <th>2</th>\n",
       "      <td>0.0</td>\n",
       "      <td>350.0</td>\n",
       "    </tr>\n",
       "    <tr>\n",
       "      <th>3</th>\n",
       "      <td>0.0</td>\n",
       "      <td>330.0</td>\n",
       "    </tr>\n",
       "    <tr>\n",
       "      <th>4</th>\n",
       "      <td>0.0</td>\n",
       "      <td>317.0</td>\n",
=======
       "      <th>2</th>\n",
       "      <td>0.0</td>\n",
       "      <td>350.0</td>\n",
       "      <td>42.0</td>\n",
       "      <td>-308.0</td>\n",
       "    </tr>\n",
       "    <tr>\n",
       "      <th>13</th>\n",
       "      <td>0.0</td>\n",
       "      <td>275.0</td>\n",
       "      <td>73.0</td>\n",
       "      <td>-202.0</td>\n",
       "    </tr>\n",
       "    <tr>\n",
       "      <th>12</th>\n",
       "      <td>0.0</td>\n",
       "      <td>275.0</td>\n",
       "      <td>89.0</td>\n",
       "      <td>-186.0</td>\n",
       "    </tr>\n",
       "    <tr>\n",
       "      <th>1</th>\n",
       "      <td>0.0</td>\n",
       "      <td>410.0</td>\n",
       "      <td>241.0</td>\n",
       "      <td>-170.0</td>\n",
       "    </tr>\n",
       "    <tr>\n",
       "      <th>31</th>\n",
       "      <td>0.0</td>\n",
       "      <td>220.0</td>\n",
       "      <td>65.0</td>\n",
       "      <td>-155.0</td>\n",
>>>>>>> 265b1cb... Add files via upload
       "    </tr>\n",
       "    <tr>\n",
       "      <th>...</th>\n",
       "      <td>...</td>\n",
       "      <td>...</td>\n",
<<<<<<< HEAD
       "    </tr>\n",
       "    <tr>\n",
       "      <th>5693</th>\n",
       "      <td>0.0</td>\n",
       "      <td>0.0</td>\n",
       "    </tr>\n",
       "    <tr>\n",
       "      <th>5694</th>\n",
       "      <td>0.0</td>\n",
       "      <td>0.0</td>\n",
       "    </tr>\n",
       "    <tr>\n",
       "      <th>5695</th>\n",
       "      <td>0.0</td>\n",
       "      <td>0.0</td>\n",
       "    </tr>\n",
       "    <tr>\n",
       "      <th>5696</th>\n",
       "      <td>0.0</td>\n",
       "      <td>0.0</td>\n",
       "    </tr>\n",
       "    <tr>\n",
       "      <th>5697</th>\n",
       "      <td>0.0</td>\n",
       "      <td>0.0</td>\n",
       "    </tr>\n",
       "  </tbody>\n",
       "</table>\n",
       "<p>5698 rows × 2 columns</p>\n",
       "</div>"
      ],
      "text/plain": [
       "      index  Production_budget\n",
       "0       0.0              425.0\n",
       "1       0.0              410.0\n",
       "2       0.0              350.0\n",
       "3       0.0              330.0\n",
       "4       0.0              317.0\n",
       "...     ...                ...\n",
       "5693    0.0                0.0\n",
       "5694    0.0                0.0\n",
       "5695    0.0                0.0\n",
       "5696    0.0                0.0\n",
       "5697    0.0                0.0\n",
       "\n",
       "[5698 rows x 2 columns]"
      ]
     },
<<<<<<< HEAD
     "execution_count": 78,
=======
       "      <td>...</td>\n",
       "      <td>...</td>\n",
       "    </tr>\n",
       "    <tr>\n",
       "      <th>33</th>\n",
       "      <td>0.0</td>\n",
       "      <td>215.0</td>\n",
       "      <td>652.0</td>\n",
       "      <td>437.0</td>\n",
       "    </tr>\n",
       "    <tr>\n",
       "      <th>3428</th>\n",
       "      <td>0.0</td>\n",
       "      <td>11.0</td>\n",
       "      <td>460.0</td>\n",
       "      <td>449.0</td>\n",
       "    </tr>\n",
       "    <tr>\n",
       "      <th>42</th>\n",
       "      <td>0.0</td>\n",
       "      <td>200.0</td>\n",
       "      <td>659.0</td>\n",
       "      <td>459.0</td>\n",
       "    </tr>\n",
       "    <tr>\n",
       "      <th>41</th>\n",
       "      <td>0.0</td>\n",
       "      <td>200.0</td>\n",
       "      <td>700.0</td>\n",
       "      <td>500.0</td>\n",
       "    </tr>\n",
       "    <tr>\n",
       "      <th>5</th>\n",
       "      <td>0.0</td>\n",
       "      <td>306.0</td>\n",
       "      <td>936.0</td>\n",
       "      <td>630.0</td>\n",
       "    </tr>\n",
       "  </tbody>\n",
       "</table>\n",
       "<p>5698 rows × 4 columns</p>\n",
       "</div>"
      ],
      "text/plain": [
       "      index  Production_budget  Domestic_gross    ROI\n",
       "2       0.0              350.0            42.0 -308.0\n",
       "13      0.0              275.0            73.0 -202.0\n",
       "12      0.0              275.0            89.0 -186.0\n",
       "1       0.0              410.0           241.0 -170.0\n",
       "31      0.0              220.0            65.0 -155.0\n",
       "...     ...                ...             ...    ...\n",
       "33      0.0              215.0           652.0  437.0\n",
       "3428    0.0               11.0           460.0  449.0\n",
       "42      0.0              200.0           659.0  459.0\n",
       "41      0.0              200.0           700.0  500.0\n",
       "5       0.0              306.0           936.0  630.0\n",
       "\n",
       "[5698 rows x 4 columns]"
      ]
     },
     "execution_count": 83,
>>>>>>> 265b1cb... Add files via upload
=======
     "execution_count": 41,
>>>>>>> bbcfa70... Fine Tooth Revisions
     "metadata": {},
     "output_type": "execute_result"
    }
   ],
   "source": [
<<<<<<< HEAD
    "bghighlow = merge_it[['Production_budget']].copy()\n",
    "bghighlow= bghighlow.reset_index()\n",
    "bghighlow = bghighlow.astype(float)\n",
    "bghighlow = bghighlow//1000000 ###divided by 1 million for simplicity in reading\n",
    "\n",
    "bghighlow"
   ]
  },
  {
   "cell_type": "code",
   "execution_count": 42,
   "metadata": {},
   "outputs": [
    {
     "name": "stdout",
     "output_type": "stream",
     "text": [
      "Old Shape:  (5698, 2)\n",
      "New Shape:  (5269, 2)\n"
     ]
    }
   ],
   "source": [
    "#Let's simplify by taking out some of the outliers \n",
    "\n",
    "#Detection:\n",
    "# IQR\n",
    "Q1 = np.percentile(bghighlow['Production_budget'], 25,\n",
    "                   interpolation = 'midpoint')\n",
    " \n",
    "Q3 = np.percentile(bghighlow['Production_budget'], 75,\n",
    "                   interpolation = 'midpoint')\n",
    "IQR = Q3 - Q1\n",
    " \n",
    "print(\"Old Shape: \", bghighlow.shape)\n",
    " \n",
    "# Upper bound\n",
    "upper = np.where(bghighlow['Production_budget'] >= (Q3+1.5*IQR))\n",
    "# Lower bound\n",
    "lower = np.where(bghighlow['Production_budget'] <= (Q1-1.5*IQR))\n",
    " \n",
    "#Remove the outliers!!!\n",
    "bghighlow.drop(upper[0], inplace = True)\n",
    "bghighlow.drop(lower[0], inplace = True)\n",
    " \n",
    "print(\"New Shape: \", bghighlow.shape)"
=======
    "bghighlow_dg['ROI'] = bghighlow_dg['Domestic_gross'] - bghighlow_dg['Production_budget']\n",
    "bghighlow_dg= bghighlow_dg.reset_index()\n",
    "bghighlow_dg = bghighlow_dg.sort_values(by=\"ROI\")\n",
    "bghighlow_dg = bghighlow_dg.astype(float)\n",
    "bghighlow_dg = bghighlow_dg//1000000 ###divided by 1 million for simplicity in reading\n",
    "\n",
    "bghighlow_dg"
>>>>>>> 265b1cb... Add files via upload
   ]
  },
  {
   "cell_type": "code",
<<<<<<< HEAD
<<<<<<< HEAD
   "execution_count": 80,
=======
   "execution_count": 84,
>>>>>>> 265b1cb... Add files via upload
=======
   "execution_count": 43,
>>>>>>> bbcfa70... Fine Tooth Revisions
   "metadata": {},
   "outputs": [
    {
     "name": "stdout",
     "output_type": "stream",
     "text": [
      "Minimum budget: $ 0.0\n",
<<<<<<< HEAD
      "Maximum budget: $ 92.0\n",
      "Median budget: $ 15.0\n",
      "Average budget: $ 22.0\n"
=======
      "Maximum budget: $ 425.0\n",
      "Median budget: $ 17.0\n",
      "Average budget: $ 32.0\n"
>>>>>>> 265b1cb... Add files via upload
     ]
    }
   ],
   "source": [
<<<<<<< HEAD
    "print(\"Minimum budget:\", \"$\", bghighlow['Production_budget'].min().round(decimals = 2))\n",
    "print(\"Maximum budget:\", \"$\", bghighlow['Production_budget'].max().round(decimals = 2))\n",
    "print(\"Median budget:\", \"$\", bghighlow['Production_budget'].median().round(decimals = 2))\n",
    "print(\"Average budget:\", \"$\", bghighlow['Production_budget'].mean().round(decimals = 0))\n",
=======
    "print(\"Minimum budget:\", \"$\", bghighlow_dg['Production_budget'].min().round(decimals = 2))\n",
    "print(\"Maximum budget:\", \"$\", bghighlow_dg['Production_budget'].max().round(decimals = 2))\n",
    "print(\"Median budget:\", \"$\", bghighlow_dg['Production_budget'].median().round(decimals = 2))\n",
    "print(\"Average budget:\", \"$\", bghighlow_dg['Production_budget'].mean().round(decimals = 0))\n",
>>>>>>> 265b1cb... Add files via upload
    "\n"
   ]
  },
  {
   "cell_type": "markdown",
   "metadata": {},
   "source": [
    "### Conclusion:\n",
<<<<<<< HEAD
    "Expect to spend around 22 million dollars."
=======
    "Expect to spend around $28,000,000.00. "
>>>>>>> 265b1cb... Add files via upload
   ]
  },
  {
   "cell_type": "markdown",
   "metadata": {},
   "source": [
    "## Budget vs. Gross Worldwide"
   ]
  },
  {
   "cell_type": "code",
<<<<<<< HEAD
<<<<<<< HEAD
   "execution_count": 81,
=======
   "execution_count": 92,
>>>>>>> 265b1cb... Add files via upload
=======
   "execution_count": 44,
>>>>>>> bbcfa70... Fine Tooth Revisions
   "metadata": {},
   "outputs": [
    {
     "data": {
      "text/html": [
       "<div>\n",
       "<style scoped>\n",
       "    .dataframe tbody tr th:only-of-type {\n",
       "        vertical-align: middle;\n",
       "    }\n",
       "\n",
       "    .dataframe tbody tr th {\n",
       "        vertical-align: top;\n",
       "    }\n",
       "\n",
       "    .dataframe thead th {\n",
       "        text-align: right;\n",
       "    }\n",
       "</style>\n",
       "<table border=\"1\" class=\"dataframe\">\n",
       "  <thead>\n",
       "    <tr style=\"text-align: right;\">\n",
       "      <th></th>\n",
       "      <th>index</th>\n",
       "      <th>Production_budget</th>\n",
       "      <th>Worldwide_gross</th>\n",
       "    </tr>\n",
       "  </thead>\n",
       "  <tbody>\n",
       "    <tr>\n",
       "      <th>5697</th>\n",
       "      <td>0.0</td>\n",
       "      <td>0.0</td>\n",
       "      <td>0.0</td>\n",
       "    </tr>\n",
       "    <tr>\n",
       "      <th>5696</th>\n",
       "      <td>0.0</td>\n",
       "      <td>0.0</td>\n",
       "      <td>0.0</td>\n",
       "    </tr>\n",
       "    <tr>\n",
       "      <th>5695</th>\n",
       "      <td>0.0</td>\n",
       "      <td>0.0</td>\n",
       "      <td>0.0</td>\n",
       "    </tr>\n",
       "    <tr>\n",
       "      <th>5694</th>\n",
       "      <td>0.0</td>\n",
       "      <td>0.0</td>\n",
       "      <td>0.0</td>\n",
       "    </tr>\n",
       "    <tr>\n",
       "      <th>5692</th>\n",
       "      <td>0.0</td>\n",
       "      <td>0.0</td>\n",
       "      <td>0.0</td>\n",
       "    </tr>\n",
       "    <tr>\n",
       "      <th>...</th>\n",
       "      <td>...</td>\n",
       "      <td>...</td>\n",
       "      <td>...</td>\n",
       "    </tr>\n",
       "    <tr>\n",
       "      <th>4</th>\n",
       "      <td>0.0</td>\n",
       "      <td>317.0</td>\n",
       "      <td>1316.0</td>\n",
       "    </tr>\n",
       "    <tr>\n",
       "      <th>3</th>\n",
       "      <td>0.0</td>\n",
       "      <td>330.0</td>\n",
       "      <td>1403.0</td>\n",
       "    </tr>\n",
       "    <tr>\n",
       "      <th>2</th>\n",
       "      <td>0.0</td>\n",
       "      <td>350.0</td>\n",
       "      <td>149.0</td>\n",
       "    </tr>\n",
       "    <tr>\n",
       "      <th>1</th>\n",
       "      <td>0.0</td>\n",
       "      <td>410.0</td>\n",
       "      <td>1045.0</td>\n",
       "    </tr>\n",
       "    <tr>\n",
       "      <th>0</th>\n",
       "      <td>0.0</td>\n",
       "      <td>425.0</td>\n",
       "      <td>2776.0</td>\n",
       "    </tr>\n",
       "  </tbody>\n",
       "</table>\n",
       "<p>5698 rows × 3 columns</p>\n",
       "</div>"
      ],
      "text/plain": [
       "      index  Production_budget  Worldwide_gross\n",
       "5697    0.0                0.0              0.0\n",
       "5696    0.0                0.0              0.0\n",
       "5695    0.0                0.0              0.0\n",
       "5694    0.0                0.0              0.0\n",
       "5692    0.0                0.0              0.0\n",
       "...     ...                ...              ...\n",
       "4       0.0              317.0           1316.0\n",
       "3       0.0              330.0           1403.0\n",
       "2       0.0              350.0            149.0\n",
       "1       0.0              410.0           1045.0\n",
       "0       0.0              425.0           2776.0\n",
       "\n",
       "[5698 rows x 3 columns]"
      ]
     },
<<<<<<< HEAD
<<<<<<< HEAD
     "execution_count": 81,
=======
     "execution_count": 92,
>>>>>>> 265b1cb... Add files via upload
=======
     "execution_count": 44,
>>>>>>> bbcfa70... Fine Tooth Revisions
     "metadata": {},
     "output_type": "execute_result"
    }
   ],
   "source": [
    "# budget and how compares to gross worldwide\n",
    "\n",
    "bghighlow_wg = movie_budgets[['Production_budget', 'Worldwide_gross']].copy()\n",
    "bghighlow_wg = bghighlow_wg.reset_index() #let's clean up this index!\n",
    "bghighlow_wg = bghighlow_wg.sort_values(by=\"Production_budget\")\n",
    "bghighlow_wg = bghighlow_wg.astype(float)\n",
    "bghighlow_wg = bghighlow_wg//1000000 ###divided by 1 million for simplicity in reading\n",
    "bghighlow_wg"
   ]
  },
  {
   "cell_type": "code",
<<<<<<< HEAD
<<<<<<< HEAD
   "execution_count": 82,
=======
   "execution_count": 93,
>>>>>>> 265b1cb... Add files via upload
=======
   "execution_count": 20,
>>>>>>> bbcfa70... Fine Tooth Revisions
   "metadata": {},
   "outputs": [
    {
     "name": "stdout",
     "output_type": "stream",
     "text": [
      "Old Shape:  (5698, 3)\n",
      "New Shape:  (5269, 3)\n"
     ]
    }
   ],
   "source": [
    "#Let's simplify by taking out some of the outliers \n",
    "\n",
    "#Detection:\n",
    "# IQR\n",
    "Q1 = np.percentile(bghighlow_wg['Production_budget'], 25,\n",
    "                   interpolation = 'midpoint')\n",
    " \n",
    "Q3 = np.percentile(bghighlow_wg['Production_budget'], 75,\n",
    "                   interpolation = 'midpoint')\n",
    "IQR = Q3 - Q1\n",
    " \n",
    "print(\"Old Shape: \", bghighlow_wg.shape)\n",
    " \n",
    "# Upper bound\n",
    "upper = np.where(bghighlow_wg['Production_budget'] >= (Q3+1.5*IQR))\n",
    "# Lower bound\n",
    "lower = np.where(bghighlow_wg['Production_budget'] <= (Q1-1.5*IQR))\n",
    " \n",
    "#Remove the outliers!!!\n",
    "bghighlow_wg.drop(upper[0], inplace = True)\n",
    "bghighlow_wg.drop(lower[0], inplace = True)\n",
    " \n",
    "print(\"New Shape: \", bghighlow_wg.shape)"
   ]
  },
  {
   "cell_type": "code",
<<<<<<< HEAD
<<<<<<< HEAD
   "execution_count": 86,
=======
   "execution_count": 94,
>>>>>>> 265b1cb... Add files via upload
=======
   "execution_count": 45,
>>>>>>> bbcfa70... Fine Tooth Revisions
   "metadata": {},
   "outputs": [
    {
     "name": "stdout",
     "output_type": "stream",
     "text": [
<<<<<<< HEAD
<<<<<<< HEAD
      "With a budget of 22 million dollars, you can expect an average worldwide gross of  72.21 million dollars.\n"
=======
      "With a budget of 28 million dollars, you can expect an average worldwide gross of  74.44 million dollars.\n"
>>>>>>> 265b1cb... Add files via upload
=======
      "With a budget of 22.0 million dollars, you can expect an average worldwide gross of  72.21 million dollars.\n"
>>>>>>> bbcfa70... Fine Tooth Revisions
     ]
    }
   ],
   "source": [
    "bghighlow_wg_mean = bghighlow_wg.groupby('Production_budget').mean()\n",
    "bghighlow_wg_mean['Production_budget'] = bghighlow_wg_mean.index\n",
<<<<<<< HEAD
    "\n",
<<<<<<< HEAD
    "print(\"With a budget of 22 million dollars, you can expect an average worldwide gross of \",bghighlow_wg_mean['Worldwide_gross'][23].round(2), \"million dollars.\")\n"
=======
    "print(\"With a budget of 28 million dollars, you can expect an average worldwide gross of \",bghighlow_wg_mean['Worldwide_gross'][28].round(2), \"million dollars.\")\n"
=======
    "print(\"With a budget of\", bghighlow['Production_budget'].mean().round(decimals = 0), \"million dollars, you can expect an average worldwide gross of \",bghighlow_wg_mean['Worldwide_gross'][23].round(2), \"million dollars.\")\n"
>>>>>>> bbcfa70... Fine Tooth Revisions
   ]
  },
  {
   "cell_type": "code",
<<<<<<< HEAD
   "execution_count": 95,
   "metadata": {},
   "outputs": [
    {
     "data": {
      "text/html": [
       "<div>\n",
       "<style scoped>\n",
       "    .dataframe tbody tr th:only-of-type {\n",
       "        vertical-align: middle;\n",
       "    }\n",
       "\n",
       "    .dataframe tbody tr th {\n",
       "        vertical-align: top;\n",
       "    }\n",
       "\n",
       "    .dataframe thead th {\n",
       "        text-align: right;\n",
       "    }\n",
       "</style>\n",
       "<table border=\"1\" class=\"dataframe\">\n",
       "  <thead>\n",
       "    <tr style=\"text-align: right;\">\n",
       "      <th></th>\n",
       "      <th>index</th>\n",
       "      <th>Production_budget</th>\n",
       "      <th>Worldwide_gross</th>\n",
       "    </tr>\n",
       "  </thead>\n",
       "  <tbody>\n",
       "    <tr>\n",
       "      <th>5268</th>\n",
       "      <td>0.0</td>\n",
       "      <td>0.0</td>\n",
       "      <td>0.0</td>\n",
       "    </tr>\n",
       "    <tr>\n",
       "      <th>5267</th>\n",
       "      <td>0.0</td>\n",
       "      <td>0.0</td>\n",
       "      <td>6.0</td>\n",
       "    </tr>\n",
       "    <tr>\n",
       "      <th>5266</th>\n",
       "      <td>0.0</td>\n",
       "      <td>0.0</td>\n",
       "      <td>0.0</td>\n",
       "    </tr>\n",
       "    <tr>\n",
       "      <th>5262</th>\n",
       "      <td>0.0</td>\n",
       "      <td>0.0</td>\n",
       "      <td>0.0</td>\n",
       "    </tr>\n",
       "    <tr>\n",
       "      <th>5261</th>\n",
       "      <td>0.0</td>\n",
       "      <td>0.0</td>\n",
       "      <td>8.0</td>\n",
       "    </tr>\n",
       "    <tr>\n",
       "      <th>...</th>\n",
       "      <td>...</td>\n",
       "      <td>...</td>\n",
       "      <td>...</td>\n",
       "    </tr>\n",
       "    <tr>\n",
       "      <th>4</th>\n",
       "      <td>0.0</td>\n",
       "      <td>317.0</td>\n",
       "      <td>1316.0</td>\n",
       "    </tr>\n",
       "    <tr>\n",
       "      <th>3</th>\n",
       "      <td>0.0</td>\n",
       "      <td>330.0</td>\n",
       "      <td>1403.0</td>\n",
       "    </tr>\n",
       "    <tr>\n",
       "      <th>2</th>\n",
       "      <td>0.0</td>\n",
       "      <td>350.0</td>\n",
       "      <td>149.0</td>\n",
       "    </tr>\n",
       "    <tr>\n",
       "      <th>1</th>\n",
       "      <td>0.0</td>\n",
       "      <td>410.0</td>\n",
       "      <td>1045.0</td>\n",
       "    </tr>\n",
       "    <tr>\n",
       "      <th>0</th>\n",
       "      <td>0.0</td>\n",
       "      <td>425.0</td>\n",
       "      <td>2776.0</td>\n",
       "    </tr>\n",
       "  </tbody>\n",
       "</table>\n",
       "<p>5269 rows × 3 columns</p>\n",
       "</div>"
      ],
      "text/plain": [
       "      index  Production_budget  Worldwide_gross\n",
       "5268    0.0                0.0              0.0\n",
       "5267    0.0                0.0              6.0\n",
       "5266    0.0                0.0              0.0\n",
       "5262    0.0                0.0              0.0\n",
       "5261    0.0                0.0              8.0\n",
       "...     ...                ...              ...\n",
       "4       0.0              317.0           1316.0\n",
       "3       0.0              330.0           1403.0\n",
       "2       0.0              350.0            149.0\n",
       "1       0.0              410.0           1045.0\n",
       "0       0.0              425.0           2776.0\n",
       "\n",
       "[5269 rows x 3 columns]"
      ]
     },
     "execution_count": 95,
     "metadata": {},
     "output_type": "execute_result"
    }
   ],
   "source": [
    "bghighlow_wg"
>>>>>>> 265b1cb... Add files via upload
   ]
  },
  {
   "cell_type": "code",
<<<<<<< HEAD
   "execution_count": 99,
=======
   "execution_count": 96,
>>>>>>> 265b1cb... Add files via upload
=======
   "execution_count": 22,
>>>>>>> bbcfa70... Fine Tooth Revisions
   "metadata": {
    "scrolled": true
   },
   "outputs": [
    {
     "data": {
      "text/plain": [
<<<<<<< HEAD
<<<<<<< HEAD
       "<matplotlib.legend.Legend at 0x7fc0b4786760>"
      ]
     },
     "execution_count": 99,
=======
       "<matplotlib.lines.Line2D at 0x7f9daabd0970>"
      ]
     },
     "execution_count": 96,
>>>>>>> 265b1cb... Add files via upload
=======
       "<matplotlib.legend.Legend at 0x7fa850f67400>"
      ]
     },
     "execution_count": 22,
>>>>>>> bbcfa70... Fine Tooth Revisions
     "metadata": {},
     "output_type": "execute_result"
    },
    {
     "data": {
<<<<<<< HEAD
      "image/png": "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\n",
=======
      "image/png": "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\n",
>>>>>>> 265b1cb... Add files via upload
      "text/plain": [
       "<Figure size 1080x720 with 1 Axes>"
      ]
     },
     "metadata": {
      "needs_background": "light"
     },
     "output_type": "display_data"
    }
   ],
   "source": [
    "bghighlow_wg_mean.plot.scatter(figsize=(15,10),x='Production_budget',y='Worldwide_gross', color='green')\n",
<<<<<<< HEAD
    "plt.title('Average Worldwide Gross Per Amount Spent on Production', fontsize=18)\n",
    "plt.xlabel('Production Budget in Millions of US Dollars', fontsize=16)\n",
    "plt.ylabel('Average Worldwide Gross in Millions of US Dollars', fontsize=16)\n",
    "\n",
    "plt.axhline(y = 0, color = 'r', linestyle = '-')\n",
    "plt.axvline(x = 22, color = 'b', label = '22 million')\n",
    "plt.legend(loc = 'upper left', prop={\"size\":14})\n",
    "\n"
=======
    "plt.title('Average Worldwide Gross Per Amount Spent on Production')\n",
    "plt.xlabel('Production Budget in Millions of US Dollars')\n",
    "plt.ylabel('Average Worldwide Gross in Millions of US Dollars')\n",
    "\n",
    "plt.axhline(y = 0, color = 'r', linestyle = '-')\n",
    "plt.axvline(x = 32, color = 'b', label = '32')\n"
>>>>>>> 265b1cb... Add files via upload
   ]
  },
  {
   "cell_type": "markdown",
   "metadata": {},
   "source": [
    "### Conclusion\n",
<<<<<<< HEAD
    "This does seem to indicate that there is a slight inclination of higher gross paired with production higher budget - the more you put in, the more you are likely to get out. However, after about 32 million (see blue line), the correlation gets a little looser and the more varience you see with "
=======
    "This does seem to indicate that there is a slight inclination of higher gross paired with production higher budget - the more you put in, the more you are likely to get out. However, after about 28 million, the correlation gets a little looser and the more varience you see with "
>>>>>>> 265b1cb... Add files via upload
   ]
  },
  {
   "cell_type": "markdown",
   "metadata": {},
   "source": [
    "## Budget vs. ROI"
   ]
  },
  {
   "cell_type": "code",
<<<<<<< HEAD
<<<<<<< HEAD
   "execution_count": 47,
=======
   "execution_count": 17,
>>>>>>> 265b1cb... Add files via upload
=======
   "execution_count": 23,
>>>>>>> bbcfa70... Fine Tooth Revisions
   "metadata": {},
   "outputs": [
    {
     "data": {
      "text/html": [
       "<div>\n",
       "<style scoped>\n",
       "    .dataframe tbody tr th:only-of-type {\n",
       "        vertical-align: middle;\n",
       "    }\n",
       "\n",
       "    .dataframe tbody tr th {\n",
       "        vertical-align: top;\n",
       "    }\n",
       "\n",
       "    .dataframe thead th {\n",
       "        text-align: right;\n",
       "    }\n",
       "</style>\n",
       "<table border=\"1\" class=\"dataframe\">\n",
       "  <thead>\n",
       "    <tr style=\"text-align: right;\">\n",
       "      <th></th>\n",
       "      <th>index</th>\n",
       "      <th>Production_budget</th>\n",
       "      <th>Domestic_gross</th>\n",
       "      <th>ROI</th>\n",
       "    </tr>\n",
       "  </thead>\n",
       "  <tbody>\n",
       "    <tr>\n",
<<<<<<< HEAD
       "      <th>0</th>\n",
       "      <td>0.0</td>\n",
       "      <td>425.0</td>\n",
       "      <td>760.0</td>\n",
       "      <td>335.0</td>\n",
       "    </tr>\n",
       "    <tr>\n",
       "      <th>1</th>\n",
       "      <td>0.0</td>\n",
       "      <td>410.0</td>\n",
       "      <td>241.0</td>\n",
       "      <td>-170.0</td>\n",
       "    </tr>\n",
       "    <tr>\n",
       "      <th>2</th>\n",
       "      <td>0.0</td>\n",
       "      <td>350.0</td>\n",
       "      <td>42.0</td>\n",
       "      <td>-308.0</td>\n",
       "    </tr>\n",
       "    <tr>\n",
       "      <th>3</th>\n",
       "      <td>0.0</td>\n",
       "      <td>330.0</td>\n",
       "      <td>459.0</td>\n",
       "      <td>128.0</td>\n",
       "    </tr>\n",
       "    <tr>\n",
       "      <th>4</th>\n",
       "      <td>0.0</td>\n",
       "      <td>317.0</td>\n",
       "      <td>620.0</td>\n",
       "      <td>303.0</td>\n",
=======
       "      <th>2</th>\n",
       "      <td>0.0</td>\n",
       "      <td>350.0</td>\n",
       "      <td>42.0</td>\n",
       "      <td>-308.0</td>\n",
       "    </tr>\n",
       "    <tr>\n",
       "      <th>13</th>\n",
       "      <td>0.0</td>\n",
       "      <td>275.0</td>\n",
       "      <td>73.0</td>\n",
       "      <td>-202.0</td>\n",
       "    </tr>\n",
       "    <tr>\n",
       "      <th>12</th>\n",
       "      <td>0.0</td>\n",
       "      <td>275.0</td>\n",
       "      <td>89.0</td>\n",
       "      <td>-186.0</td>\n",
       "    </tr>\n",
       "    <tr>\n",
       "      <th>1</th>\n",
       "      <td>0.0</td>\n",
       "      <td>410.0</td>\n",
       "      <td>241.0</td>\n",
       "      <td>-170.0</td>\n",
       "    </tr>\n",
       "    <tr>\n",
       "      <th>31</th>\n",
       "      <td>0.0</td>\n",
       "      <td>220.0</td>\n",
       "      <td>65.0</td>\n",
       "      <td>-155.0</td>\n",
>>>>>>> 265b1cb... Add files via upload
       "    </tr>\n",
       "    <tr>\n",
       "      <th>...</th>\n",
       "      <td>...</td>\n",
       "      <td>...</td>\n",
       "      <td>...</td>\n",
       "      <td>...</td>\n",
       "    </tr>\n",
       "    <tr>\n",
<<<<<<< HEAD
       "      <th>5693</th>\n",
       "      <td>0.0</td>\n",
       "      <td>0.0</td>\n",
       "      <td>0.0</td>\n",
       "      <td>-1.0</td>\n",
       "    </tr>\n",
       "    <tr>\n",
       "      <th>5694</th>\n",
       "      <td>0.0</td>\n",
       "      <td>0.0</td>\n",
       "      <td>0.0</td>\n",
       "      <td>0.0</td>\n",
       "    </tr>\n",
       "    <tr>\n",
       "      <th>5695</th>\n",
       "      <td>0.0</td>\n",
       "      <td>0.0</td>\n",
       "      <td>0.0</td>\n",
       "      <td>-1.0</td>\n",
       "    </tr>\n",
       "    <tr>\n",
       "      <th>5696</th>\n",
       "      <td>0.0</td>\n",
       "      <td>0.0</td>\n",
       "      <td>0.0</td>\n",
       "      <td>-1.0</td>\n",
       "    </tr>\n",
       "    <tr>\n",
       "      <th>5697</th>\n",
       "      <td>0.0</td>\n",
       "      <td>0.0</td>\n",
       "      <td>0.0</td>\n",
       "      <td>0.0</td>\n",
=======
       "      <th>33</th>\n",
       "      <td>0.0</td>\n",
       "      <td>215.0</td>\n",
       "      <td>652.0</td>\n",
       "      <td>437.0</td>\n",
       "    </tr>\n",
       "    <tr>\n",
       "      <th>3428</th>\n",
       "      <td>0.0</td>\n",
       "      <td>11.0</td>\n",
       "      <td>460.0</td>\n",
       "      <td>449.0</td>\n",
       "    </tr>\n",
       "    <tr>\n",
       "      <th>42</th>\n",
       "      <td>0.0</td>\n",
       "      <td>200.0</td>\n",
       "      <td>659.0</td>\n",
       "      <td>459.0</td>\n",
       "    </tr>\n",
       "    <tr>\n",
       "      <th>41</th>\n",
       "      <td>0.0</td>\n",
       "      <td>200.0</td>\n",
       "      <td>700.0</td>\n",
       "      <td>500.0</td>\n",
       "    </tr>\n",
       "    <tr>\n",
       "      <th>5</th>\n",
       "      <td>0.0</td>\n",
       "      <td>306.0</td>\n",
       "      <td>936.0</td>\n",
       "      <td>630.0</td>\n",
>>>>>>> 265b1cb... Add files via upload
       "    </tr>\n",
       "  </tbody>\n",
       "</table>\n",
       "<p>5698 rows × 4 columns</p>\n",
       "</div>"
      ],
      "text/plain": [
       "      index  Production_budget  Domestic_gross    ROI\n",
<<<<<<< HEAD
       "0       0.0              425.0           760.0  335.0\n",
       "1       0.0              410.0           241.0 -170.0\n",
       "2       0.0              350.0            42.0 -308.0\n",
       "3       0.0              330.0           459.0  128.0\n",
       "4       0.0              317.0           620.0  303.0\n",
       "...     ...                ...             ...    ...\n",
       "5693    0.0                0.0             0.0   -1.0\n",
       "5694    0.0                0.0             0.0    0.0\n",
       "5695    0.0                0.0             0.0   -1.0\n",
       "5696    0.0                0.0             0.0   -1.0\n",
       "5697    0.0                0.0             0.0    0.0\n",
=======
       "2       0.0              350.0            42.0 -308.0\n",
       "13      0.0              275.0            73.0 -202.0\n",
       "12      0.0              275.0            89.0 -186.0\n",
       "1       0.0              410.0           241.0 -170.0\n",
       "31      0.0              220.0            65.0 -155.0\n",
       "...     ...                ...             ...    ...\n",
       "33      0.0              215.0           652.0  437.0\n",
       "3428    0.0               11.0           460.0  449.0\n",
       "42      0.0              200.0           659.0  459.0\n",
       "41      0.0              200.0           700.0  500.0\n",
       "5       0.0              306.0           936.0  630.0\n",
>>>>>>> 265b1cb... Add files via upload
       "\n",
       "[5698 rows x 4 columns]"
      ]
     },
<<<<<<< HEAD
<<<<<<< HEAD
     "execution_count": 47,
=======
     "execution_count": 17,
>>>>>>> 265b1cb... Add files via upload
=======
     "execution_count": 23,
>>>>>>> bbcfa70... Fine Tooth Revisions
     "metadata": {},
     "output_type": "execute_result"
    }
   ],
   "source": [
<<<<<<< HEAD
    "bghighlow_dg = merge_it[['Production_budget', 'Domestic_gross']].copy()\n",
    "bghighlow_dg['ROI'] = bghighlow_dg['Domestic_gross'] - bghighlow_dg['Production_budget']\n",
    "bghighlow_dg= bghighlow_dg.reset_index()\n",
=======
    "bghighlow_dg['ROI'] = bghighlow_dg['Domestic_gross'] - bghighlow_dg['Production_budget']\n",
    "bghighlow_dg= bghighlow_dg.reset_index()\n",
    "bghighlow_dg = bghighlow_dg.sort_values(by=\"ROI\")\n",
>>>>>>> 265b1cb... Add files via upload
    "bghighlow_dg = bghighlow_dg.astype(float)\n",
    "bghighlow_dg = bghighlow_dg//1000000 ###divided by 1 million for simplicity in reading\n",
    "\n",
    "bghighlow_dg"
   ]
  },
  {
   "cell_type": "code",
<<<<<<< HEAD
<<<<<<< HEAD
   "execution_count": 48,
=======
   "execution_count": 18,
>>>>>>> 265b1cb... Add files via upload
=======
   "execution_count": 24,
>>>>>>> bbcfa70... Fine Tooth Revisions
   "metadata": {},
   "outputs": [
    {
     "name": "stdout",
     "output_type": "stream",
     "text": [
      "Old Shape:  (5698, 4)\n",
      "New Shape:  (5269, 4)\n"
     ]
    }
   ],
   "source": [
    "#Let's simplify by taking out some of the outliers \n",
    "\n",
    "#Detection:\n",
    "# IQR\n",
    "Q1 = np.percentile(bghighlow_dg['Production_budget'], 25,\n",
    "                   interpolation = 'midpoint')\n",
    " \n",
    "Q3 = np.percentile(bghighlow_dg['Production_budget'], 75,\n",
    "                   interpolation = 'midpoint')\n",
    "IQR = Q3 - Q1\n",
    "\n",
    "#Check it!\n",
    "print(\"Old Shape: \", bghighlow_dg.shape)\n",
    " \n",
    "# Upper bound\n",
    "upper = np.where(bghighlow_dg['Production_budget'] >= (Q3+1.5*IQR))\n",
    "# Lower bound\n",
    "lower = np.where(bghighlow_dg['Production_budget'] <= (Q1-1.5*IQR))\n",
    " \n",
    "#Remove the outliers!!!\n",
    "bghighlow_dg.drop(upper[0], inplace = True)\n",
    "bghighlow_dg.drop(lower[0], inplace = True)\n",
    "\n",
    "#Check it!\n",
    "print(\"New Shape: \", bghighlow_dg.shape)"
   ]
  },
  {
   "cell_type": "code",
<<<<<<< HEAD
<<<<<<< HEAD
   "execution_count": 49,
=======
   "execution_count": 19,
>>>>>>> 265b1cb... Add files via upload
=======
   "execution_count": 25,
>>>>>>> bbcfa70... Fine Tooth Revisions
   "metadata": {},
   "outputs": [],
   "source": [
    "bghighlow_dg_mean = bghighlow_dg.copy()\n",
    "bghighlow_dg_mean = bghighlow_dg_mean.drop(columns='Domestic_gross')\n",
    "bghighlow_dg_mean = bghighlow_dg_mean.groupby('Production_budget').mean()\n",
    "bghighlow_dg_mean['Production_budget'] = bghighlow_dg_mean.index"
   ]
  },
  {
   "cell_type": "code",
<<<<<<< HEAD
<<<<<<< HEAD
   "execution_count": 136,
=======
   "execution_count": 61,
>>>>>>> 265b1cb... Add files via upload
=======
   "execution_count": 26,
>>>>>>> bbcfa70... Fine Tooth Revisions
   "metadata": {},
   "outputs": [
    {
     "data": {
      "text/plain": [
<<<<<<< HEAD
<<<<<<< HEAD
       "<matplotlib.legend.Legend at 0x7fc0d65dcac0>"
      ]
     },
     "execution_count": 136,
=======
       "<matplotlib.lines.Line2D at 0x7f9dca40f610>"
      ]
     },
     "execution_count": 61,
>>>>>>> 265b1cb... Add files via upload
=======
       "<matplotlib.legend.Legend at 0x7fa8813ba250>"
      ]
     },
     "execution_count": 26,
>>>>>>> bbcfa70... Fine Tooth Revisions
     "metadata": {},
     "output_type": "execute_result"
    },
    {
     "data": {
<<<<<<< HEAD
      "image/png": "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\n",
=======
      "image/png": "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\n",
>>>>>>> 265b1cb... Add files via upload
      "text/plain": [
       "<Figure size 720x576 with 1 Axes>"
      ]
     },
     "metadata": {
      "needs_background": "light"
     },
     "output_type": "display_data"
    }
   ],
   "source": [
    "bghighlow_dg_mean.plot.scatter(figsize=(10,8), x='Production_budget', y='ROI', color=\"green\")\n",
<<<<<<< HEAD
    "plt.title('Return on Investment Per Amount Spent on Production', fontsize=14)\n",
    "plt.xlabel('Production Budget in Millions of US Dollars', fontsize=12)\n",
    "plt.ylabel('Average Return on Investment in Millions of US Dollars', fontsize=12)\n",
    "plt.axhline(y = 0, color = 'r', linestyle = '-')\n",
    "plt.axvline(x = 22, color = 'b', label = '22 million')\n",
    "\n",
    "plt.legend(loc = 'upper left',fontsize=12)"
   ]
  },
  {
   "cell_type": "code",
   "execution_count": 27,
   "metadata": {},
   "outputs": [
    {
     "data": {
      "text/plain": [
       "14.5"
      ]
     },
     "execution_count": 27,
     "metadata": {},
     "output_type": "execute_result"
    }
   ],
   "source": [
    "bghighlow_dg_mean['ROI'][23].round(1)##our average, plus one to accound for the index value of 0\n"
=======
    "plt.title('Return on Investment Per Amount Spent on Production')\n",
    "plt.xlabel('Production Budget in Millions of US Dollars')\n",
    "plt.ylabel('Average Return on Investment in Millions of US Dollars')\n",
    "plt.axhline(y = 0, color = 'r', linestyle = '-')\n",
    "plt.axvline(x = 28, color = 'b', label = '28')\n"
>>>>>>> 265b1cb... Add files via upload
   ]
  },
  {
   "cell_type": "markdown",
   "metadata": {},
   "source": [
    "### Conclusion\n",
<<<<<<< HEAD
    "The data shows that average return on investment is pretty steady and consistent up until about $30 million dollars, where the results can be more dramatic and sporatic for both for profit and loss. With a budget of 22 million dollars, you can expect and average ROI between 14.5 million dollars. "
=======
    "The data shows that average return on investment is pretty steady and consistent up until about $30 million dollars, where the results can be more dramatic and sporatic for both for profit and loss. With a budget of 17-28 million dollars, you can expect and average ROI between 15-18 million dollars. "
>>>>>>> 265b1cb... Add files via upload
   ]
  },
  {
   "cell_type": "markdown",
   "metadata": {},
   "source": [
    "### Release Date vs. Domestic Gross"
   ]
  },
  {
   "cell_type": "code",
<<<<<<< HEAD
<<<<<<< HEAD
   "execution_count": 53,
=======
   "execution_count": 28,
>>>>>>> bbcfa70... Fine Tooth Revisions
   "metadata": {},
   "outputs": [
    {
     "data": {
      "text/plain": [
       "Release_date\n",
       "Jan     23.0\n",
       "Feb     35.0\n",
       "Mar     38.0\n",
       "Apr     27.0\n",
       "May     66.0\n",
       "Jun     66.0\n",
       "July    60.0\n",
       "Aug     32.0\n",
       "Sep     23.0\n",
       "Oct     24.0\n",
       "Nov     57.0\n",
       "Dec     46.0\n",
       "Name: Domestic_gross, dtype: float64"
      ]
     },
     "execution_count": 28,
     "metadata": {},
     "output_type": "execute_result"
    }
   ],
=======
   "execution_count": null,
   "metadata": {},
   "outputs": [],
>>>>>>> 265b1cb... Add files via upload
   "source": [
    "\n",
    "released_dg = movie_budgets[['Release_date', 'Domestic_gross']].copy()\n",
    "released_dg_avg = released_dg.groupby('Release_date')['Domestic_gross'].mean()\n",
    "released_dg_avg = released_dg_avg.round(decimals = 0)\n",
    "released_dg_avg = released_dg_avg.astype(float)\n",
    "released_dg_avg = released_dg_avg//1000000 ###divided by 1 million for simplicity in reading\n",
    "#released_dg_avg = released_dg_avg.dt.month_name()\n",
    "released_dg_avg = released_dg_avg.rename(index={1: 'Jan', 2: 'Feb', 3: 'Mar', 4: 'Apr', 5: 'May', 6: 'Jun', 7: 'July', 8: 'Aug', 9: 'Sep', 10: 'Oct', 11: 'Nov', 12: 'Dec' })\n",
    "released_dg_avg"
   ]
  },
  {
   "cell_type": "code",
<<<<<<< HEAD
<<<<<<< HEAD
   "execution_count": 124,
=======
   "execution_count": 29,
>>>>>>> bbcfa70... Fine Tooth Revisions
   "metadata": {
    "scrolled": true
   },
   "outputs": [
    {
     "data": {
      "text/plain": [
       "Text(0, 0.5, 'Average Domestic Gross in Millions of US Dollars')"
      ]
     },
     "execution_count": 29,
     "metadata": {},
     "output_type": "execute_result"
    },
    {
     "data": {
      "image/png": "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\n",
      "text/plain": [
       "<Figure size 1080x504 with 1 Axes>"
      ]
     },
     "metadata": {
      "needs_background": "light"
     },
     "output_type": "display_data"
    }
   ],
=======
   "execution_count": null,
   "metadata": {
    "scrolled": true
   },
   "outputs": [],
>>>>>>> 265b1cb... Add files via upload
   "source": [
    "released_dg_avg.plot.bar(\n",
    "    figsize=(15,7), \n",
    "    x=\"Month Released\", \n",
    "    y=\"Domestic Gross in Millions\", \n",
<<<<<<< HEAD
    "    rot=80,  \n",
    "    color='green',\n",
    "    fontsize = 14);\n",
    "plt.title(\"Average Domestic Gross per Month Released\", fontsize=20)\n",
    "plt.xlabel('Month Released', fontsize=16)\n",
    "plt.ylabel('Average Domestic Gross in Millions of US Dollars', fontsize=14)\n"
=======
    "    rot=80, \n",
    "    title=\"Average Domestic Gross per Month Released\", color='green');\n",
    "plt.xlabel('Month Released')\n",
    "plt.ylabel('Average Domestic Gross in Millions of US Dollars')\n",
    " "
>>>>>>> 265b1cb... Add files via upload
   ]
  },
  {
   "cell_type": "markdown",
   "metadata": {},
   "source": [
    "### Conclusion:\n",
    "It appears the best months to release a movie would be May and June in the summer, followed closely by July. If a film needs to be released any other time, it's advisable to release in November."
   ]
  },
  {
   "cell_type": "markdown",
   "metadata": {},
   "source": [
    "## The What, Who, and How - merge_it\n",
    "            *Average Domestic Gross Per Genre\n",
    "            *Average Rating Vs. Runtime\n",
    "            *Average Domestic Gross By Average Rating\n",
    "            *Average Rating Per Director"
   ]
  },
  {
   "cell_type": "markdown",
   "metadata": {},
   "source": [
    "## Average Domestic Gross Per Genre"
   ]
  },
  {
   "cell_type": "code",
<<<<<<< HEAD
<<<<<<< HEAD
   "execution_count": 55,
=======
   "execution_count": null,
>>>>>>> 265b1cb... Add files via upload
=======
   "execution_count": 30,
>>>>>>> bbcfa70... Fine Tooth Revisions
   "metadata": {},
   "outputs": [],
   "source": [
    "avrgrs_genre = merge_it[['genres', 'Domestic_gross']].copy()\n",
    "avrgrs_genre = avrgrs_genre.dropna(subset=['genres'])\n",
    "avrgrs_genre = avrgrs_genre[avrgrs_genre.Domestic_gross != 0]\n"
   ]
  },
  {
   "cell_type": "code",
<<<<<<< HEAD
<<<<<<< HEAD
   "execution_count": 56,
=======
   "execution_count": 31,
>>>>>>> bbcfa70... Fine Tooth Revisions
   "metadata": {},
   "outputs": [
    {
     "data": {
      "text/html": [
       "<div>\n",
       "<style scoped>\n",
       "    .dataframe tbody tr th:only-of-type {\n",
       "        vertical-align: middle;\n",
       "    }\n",
       "\n",
       "    .dataframe tbody tr th {\n",
       "        vertical-align: top;\n",
       "    }\n",
       "\n",
       "    .dataframe thead th {\n",
       "        text-align: right;\n",
       "    }\n",
       "</style>\n",
       "<table border=\"1\" class=\"dataframe\">\n",
       "  <thead>\n",
       "    <tr style=\"text-align: right;\">\n",
       "      <th></th>\n",
       "      <th>genres</th>\n",
       "      <th>Domestic_gross</th>\n",
       "    </tr>\n",
       "  </thead>\n",
       "  <tbody>\n",
       "    <tr>\n",
       "      <th>0</th>\n",
       "      <td>Horror</td>\n",
       "      <td>760507625.0</td>\n",
       "    </tr>\n",
       "    <tr>\n",
       "      <th>3</th>\n",
       "      <td>Action,Adventure,Fantasy</td>\n",
       "      <td>241063875.0</td>\n",
       "    </tr>\n",
       "    <tr>\n",
       "      <th>49</th>\n",
       "      <td>Action,Adventure,Sci-Fi</td>\n",
       "      <td>42762350.0</td>\n",
       "    </tr>\n",
       "    <tr>\n",
       "      <th>84</th>\n",
       "      <td>Action,Adventure,Sci-Fi</td>\n",
       "      <td>459005868.0</td>\n",
       "    </tr>\n",
       "    <tr>\n",
       "      <th>127</th>\n",
       "      <td>Action,Adventure,Sci-Fi</td>\n",
       "      <td>678815482.0</td>\n",
       "    </tr>\n",
       "    <tr>\n",
       "      <th>...</th>\n",
       "      <td>...</td>\n",
       "      <td>...</td>\n",
       "    </tr>\n",
       "    <tr>\n",
       "      <th>50104</th>\n",
       "      <td>Documentary</td>\n",
       "      <td>8374.0</td>\n",
       "    </tr>\n",
       "    <tr>\n",
       "      <th>50121</th>\n",
       "      <td>Horror</td>\n",
       "      <td>3632.0</td>\n",
       "    </tr>\n",
       "    <tr>\n",
       "      <th>50130</th>\n",
       "      <td>Drama</td>\n",
       "      <td>144822.0</td>\n",
       "    </tr>\n",
       "    <tr>\n",
       "      <th>50140</th>\n",
       "      <td>Drama</td>\n",
       "      <td>3547.0</td>\n",
       "    </tr>\n",
       "    <tr>\n",
       "      <th>50195</th>\n",
       "      <td>Drama</td>\n",
       "      <td>94596.0</td>\n",
       "    </tr>\n",
       "  </tbody>\n",
       "</table>\n",
       "<p>1770 rows × 2 columns</p>\n",
       "</div>"
      ],
      "text/plain": [
       "                         genres  Domestic_gross\n",
       "0                        Horror     760507625.0\n",
       "3      Action,Adventure,Fantasy     241063875.0\n",
       "49      Action,Adventure,Sci-Fi      42762350.0\n",
       "84      Action,Adventure,Sci-Fi     459005868.0\n",
       "127     Action,Adventure,Sci-Fi     678815482.0\n",
       "...                         ...             ...\n",
       "50104               Documentary          8374.0\n",
       "50121                    Horror          3632.0\n",
       "50130                     Drama        144822.0\n",
       "50140                     Drama          3547.0\n",
       "50195                     Drama         94596.0\n",
       "\n",
       "[1770 rows x 2 columns]"
      ]
     },
     "execution_count": 31,
     "metadata": {},
     "output_type": "execute_result"
    }
   ],
=======
   "execution_count": null,
   "metadata": {},
   "outputs": [],
>>>>>>> 265b1cb... Add files via upload
   "source": [
    "#We have multiple listings in many genres cell, so we want to break it up so we can calculate the mean for each genre\n",
    "avrgrs_genre"
   ]
  },
  {
   "cell_type": "code",
<<<<<<< HEAD
<<<<<<< HEAD
   "execution_count": 57,
=======
   "execution_count": 32,
>>>>>>> bbcfa70... Fine Tooth Revisions
   "metadata": {},
   "outputs": [
    {
     "data": {
      "text/html": [
       "<div>\n",
       "<style scoped>\n",
       "    .dataframe tbody tr th:only-of-type {\n",
       "        vertical-align: middle;\n",
       "    }\n",
       "\n",
       "    .dataframe tbody tr th {\n",
       "        vertical-align: top;\n",
       "    }\n",
       "\n",
       "    .dataframe thead th {\n",
       "        text-align: right;\n",
       "    }\n",
       "</style>\n",
       "<table border=\"1\" class=\"dataframe\">\n",
       "  <thead>\n",
       "    <tr style=\"text-align: right;\">\n",
       "      <th></th>\n",
       "      <th>Domestic_gross</th>\n",
       "    </tr>\n",
       "    <tr>\n",
       "      <th>genres</th>\n",
       "      <th></th>\n",
       "    </tr>\n",
       "  </thead>\n",
       "  <tbody>\n",
       "    <tr>\n",
       "      <th>Action</th>\n",
       "      <td>89.0</td>\n",
       "    </tr>\n",
       "    <tr>\n",
       "      <th>Adventure</th>\n",
       "      <td>122.0</td>\n",
       "    </tr>\n",
       "    <tr>\n",
       "      <th>Biography</th>\n",
       "      <td>37.0</td>\n",
       "    </tr>\n",
       "    <tr>\n",
       "      <th>Comedy</th>\n",
       "      <td>57.0</td>\n",
       "    </tr>\n",
       "    <tr>\n",
       "      <th>Crime</th>\n",
       "      <td>35.0</td>\n",
       "    </tr>\n",
       "    <tr>\n",
       "      <th>Documentary</th>\n",
       "      <td>28.0</td>\n",
       "    </tr>\n",
       "    <tr>\n",
       "      <th>Drama</th>\n",
       "      <td>32.0</td>\n",
       "    </tr>\n",
       "    <tr>\n",
       "      <th>Family</th>\n",
       "      <td>70.0</td>\n",
       "    </tr>\n",
       "    <tr>\n",
       "      <th>Fantasy</th>\n",
       "      <td>78.0</td>\n",
       "    </tr>\n",
       "    <tr>\n",
       "      <th>History</th>\n",
       "      <td>33.0</td>\n",
       "    </tr>\n",
       "    <tr>\n",
       "      <th>Horror</th>\n",
       "      <td>36.0</td>\n",
       "    </tr>\n",
       "    <tr>\n",
       "      <th>Music</th>\n",
       "      <td>39.0</td>\n",
       "    </tr>\n",
       "    <tr>\n",
       "      <th>Mystery</th>\n",
       "      <td>40.0</td>\n",
       "    </tr>\n",
       "    <tr>\n",
       "      <th>Romance</th>\n",
       "      <td>33.0</td>\n",
       "    </tr>\n",
       "    <tr>\n",
       "      <th>Sport</th>\n",
       "      <td>37.0</td>\n",
       "    </tr>\n",
       "    <tr>\n",
       "      <th>Thriller</th>\n",
       "      <td>41.0</td>\n",
       "    </tr>\n",
       "  </tbody>\n",
       "</table>\n",
       "</div>"
      ],
      "text/plain": [
       "             Domestic_gross\n",
       "genres                     \n",
       "Action                 89.0\n",
       "Adventure             122.0\n",
       "Biography              37.0\n",
       "Comedy                 57.0\n",
       "Crime                  35.0\n",
       "Documentary            28.0\n",
       "Drama                  32.0\n",
       "Family                 70.0\n",
       "Fantasy                78.0\n",
       "History                33.0\n",
       "Horror                 36.0\n",
       "Music                  39.0\n",
       "Mystery                40.0\n",
       "Romance                33.0\n",
       "Sport                  37.0\n",
       "Thriller               41.0"
      ]
     },
     "execution_count": 32,
     "metadata": {},
     "output_type": "execute_result"
    }
   ],
=======
   "execution_count": null,
   "metadata": {},
   "outputs": [],
>>>>>>> 265b1cb... Add files via upload
   "source": [
    "#Make a loop to look for individual genres, make a list, then concat it!\n",
    "genres=['Romance', 'Family', 'Music', 'Sport', 'Biography', 'History', 'Documentary', 'Mystery', 'Thriller', 'Comedy', 'Drama', 'Fantasy', 'Horror', 'Sci_Fi', 'Action', 'Adventure', 'Crime']\n",
    "Genre_collection = []\n",
    "\n",
    "for genre in genres:\n",
    "    ComboGenre = avrgrs_genre[avrgrs_genre['genres'].str.contains(genre)]\n",
    "    ComboGenre = ComboGenre.drop(columns='genres')\n",
    "    ComboGenre = ComboGenre.assign(genres=genre)\n",
    "    Genre_collection.append(ComboGenre)\n",
    "    \n",
    "#Now concat it, calculate the mean for each genre, then divide by a million for legibility\n",
    "grande_avrgrs_genre = pd.concat(Genre_collection)\n",
    "grande_avrgrs_genre = grande_avrgrs_genre.groupby('genres').mean()\n",
    "grande_avrgrs_genre['Domestic_gross'] = grande_avrgrs_genre['Domestic_gross']//1000000\n",
    "grande_avrgrs_genre\n"
   ]
  },
  {
   "cell_type": "code",
<<<<<<< HEAD
<<<<<<< HEAD
   "execution_count": 135,
=======
   "execution_count": 33,
>>>>>>> bbcfa70... Fine Tooth Revisions
   "metadata": {
    "scrolled": true
   },
   "outputs": [
    {
     "data": {
      "text/plain": [
       "Text(0, 0.5, 'Average Domestic Gross in Millions of US Dollars')"
      ]
     },
     "execution_count": 33,
     "metadata": {},
     "output_type": "execute_result"
    },
    {
     "data": {
      "image/png": "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\n",
      "text/plain": [
       "<Figure size 1080x504 with 1 Axes>"
      ]
     },
     "metadata": {
      "needs_background": "light"
     },
     "output_type": "display_data"
    }
   ],
   "source": [
    "grande_avrgrs_genre.plot.bar(stacked=True, figsize=(15,7), y='Domestic_gross', color='green', fontsize=14)\n",
    "plt.title('Average Domestic Gross by Genre', fontsize=20)\n",
    "plt.xlabel('Genres', fontsize=16)\n",
    "plt.ylabel('Average Domestic Gross in Millions of US Dollars', fontsize=14)\n"
=======
   "execution_count": null,
   "metadata": {
    "scrolled": true
   },
   "outputs": [],
   "source": [
    "grande_avrgrs_genre.plot.bar(stacked=True, figsize=(15,7), y='Domestic_gross', color='green')\n",
    "plt.title('Average Domestic Gross by Genre')\n",
    "plt.xlabel('Genres')\n",
    "plt.ylabel('Average Domestic Gross in Millions of US Dollars')\n"
>>>>>>> 265b1cb... Add files via upload
   ]
  },
  {
   "cell_type": "markdown",
   "metadata": {},
   "source": [
    "### Conclusion:\n",
    "Adventure, Sci-fi, and Action are the top three highest grossing genres, followed closely by Family and Fantasy. \n"
   ]
  },
  {
   "cell_type": "markdown",
   "metadata": {},
   "source": [
    "## Average Budget, Domestic Gross and Worldwide Gross Vs. Parental Advisory Rating\n"
   ]
  },
  {
   "cell_type": "code",
   "execution_count": 34,
   "metadata": {},
   "outputs": [
    {
     "data": {
      "text/html": [
       "<div>\n",
       "<style scoped>\n",
       "    .dataframe tbody tr th:only-of-type {\n",
       "        vertical-align: middle;\n",
       "    }\n",
       "\n",
       "    .dataframe tbody tr th {\n",
       "        vertical-align: top;\n",
       "    }\n",
       "\n",
       "    .dataframe thead th {\n",
       "        text-align: right;\n",
       "    }\n",
       "</style>\n",
       "<table border=\"1\" class=\"dataframe\">\n",
       "  <thead>\n",
       "    <tr style=\"text-align: right;\">\n",
       "      <th></th>\n",
       "      <th>Production_budget</th>\n",
       "      <th>Domestic_gross</th>\n",
       "      <th>Worldwide_gross</th>\n",
       "      <th>pa_rating</th>\n",
       "    </tr>\n",
       "    <tr>\n",
       "      <th>pa_rating</th>\n",
       "      <th></th>\n",
       "      <th></th>\n",
       "      <th></th>\n",
       "      <th></th>\n",
       "    </tr>\n",
       "  </thead>\n",
       "  <tbody>\n",
       "    <tr>\n",
       "      <th>G</th>\n",
       "      <td>32.0</td>\n",
       "      <td>46.0</td>\n",
       "      <td>99.0</td>\n",
       "      <td>G</td>\n",
       "    </tr>\n",
       "    <tr>\n",
       "      <th>PG</th>\n",
       "      <td>31.0</td>\n",
       "      <td>40.0</td>\n",
       "      <td>86.0</td>\n",
       "      <td>PG</td>\n",
       "    </tr>\n",
       "    <tr>\n",
       "      <th>PG-13</th>\n",
       "      <td>32.0</td>\n",
       "      <td>41.0</td>\n",
       "      <td>94.0</td>\n",
       "      <td>PG-13</td>\n",
       "    </tr>\n",
       "    <tr>\n",
       "      <th>R</th>\n",
       "      <td>31.0</td>\n",
       "      <td>42.0</td>\n",
       "      <td>92.0</td>\n",
       "      <td>R</td>\n",
       "    </tr>\n",
       "  </tbody>\n",
       "</table>\n",
       "</div>"
      ],
      "text/plain": [
       "           Production_budget  Domestic_gross  Worldwide_gross pa_rating\n",
       "pa_rating                                                              \n",
       "G                       32.0            46.0             99.0         G\n",
       "PG                      31.0            40.0             86.0        PG\n",
       "PG-13                   32.0            41.0             94.0     PG-13\n",
       "R                       31.0            42.0             92.0         R"
      ]
     },
     "execution_count": 34,
     "metadata": {},
     "output_type": "execute_result"
    }
   ],
   "source": [
    "prarental_advirsory_ratings = movie_budgets[['Production_budget', 'Domestic_gross', 'Worldwide_gross', 'pa_rating']]##New df with \n",
    "prarental_advirsory_ratings = prarental_advirsory_ratings.dropna(subset=['pa_rating'])##Take out all the Nans\n",
    "prarental_advirsory_ratings = prarental_advirsory_ratings.groupby('pa_rating').mean()##Getting the averages for each rating\n",
    "prarental_advirsory_ratings = prarental_advirsory_ratings//1000000##dividing for the millions\n",
    "prarental_advirsory_ratings['pa_rating']=prarental_advirsory_ratings.index##Making a new column with the pa_ratings\n",
    "prarental_advirsory_ratings = prarental_advirsory_ratings.drop(['NR'], axis=0)##Dropping unrated films\n",
    "prarental_advirsory_ratings"
   ]
  },
  {
   "cell_type": "code",
   "execution_count": 35,
   "metadata": {},
   "outputs": [
    {
     "data": {
      "text/plain": [
       "<matplotlib.legend.Legend at 0x7fa8925f2f70>"
      ]
     },
     "execution_count": 35,
     "metadata": {},
     "output_type": "execute_result"
    },
    {
     "data": {
      "image/png": "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\n",
      "text/plain": [
       "<Figure size 432x288 with 1 Axes>"
      ]
     },
     "metadata": {
      "needs_background": "light"
     },
     "output_type": "display_data"
    }
   ],
   "source": [
    "ax = prarental_advirsory_ratings.plot(\n",
    "    kind='bar', \n",
    "    rot=0, \n",
    "    xlabel='Prarental Advisory Rating', \n",
    "    ylabel='Millions of Dollars', \n",
    "    title='Average Budget and Grosses per Parental Advisory Rating', \n",
    "    figsize=(6, 4))\n",
    "\n",
    "# move the legend out of the plot\n",
    "ax.legend(title='Columns', bbox_to_anchor=(1, 1.02), loc='upper left')\n",
    "##I found this very helpful code from Trenton McKinney on Stack Overflow\n",
    "##Find his coding here: \n",
    "##https://stackoverflow.com/questions/14270391/python-matplotlib-multiple-bars \n",
    "##(about three quarters the way down)"
   ]
  },
  {
   "cell_type": "markdown",
   "metadata": {},
   "source": [
    "### Conclusion\n",
    "I am very surprised to see that though each category had pretty consistent budgets, films rated G came out on top, closely followed by PG-13 and R."
   ]
  },
  {
   "cell_type": "markdown",
   "metadata": {},
   "source": [
    "## Average Rating Vs. Runtime"
   ]
  },
  {
   "cell_type": "code",
<<<<<<< HEAD
<<<<<<< HEAD
   "execution_count": 59,
=======
   "execution_count": 36,
>>>>>>> bbcfa70... Fine Tooth Revisions
   "metadata": {},
   "outputs": [
    {
     "data": {
      "text/html": [
       "<div>\n",
       "<style scoped>\n",
       "    .dataframe tbody tr th:only-of-type {\n",
       "        vertical-align: middle;\n",
       "    }\n",
       "\n",
       "    .dataframe tbody tr th {\n",
       "        vertical-align: top;\n",
       "    }\n",
       "\n",
       "    .dataframe thead th {\n",
       "        text-align: right;\n",
       "    }\n",
       "</style>\n",
       "<table border=\"1\" class=\"dataframe\">\n",
       "  <thead>\n",
       "    <tr style=\"text-align: right;\">\n",
       "      <th></th>\n",
       "      <th>averagerating</th>\n",
       "      <th>runtime_minutes</th>\n",
       "    </tr>\n",
       "    <tr>\n",
       "      <th>runtime_minutes</th>\n",
       "      <th></th>\n",
       "      <th></th>\n",
       "    </tr>\n",
       "  </thead>\n",
       "  <tbody>\n",
       "    <tr>\n",
       "      <th>5.0</th>\n",
       "      <td>8.00</td>\n",
       "      <td>5.0</td>\n",
       "    </tr>\n",
       "    <tr>\n",
       "      <th>41.0</th>\n",
       "      <td>6.90</td>\n",
       "      <td>41.0</td>\n",
       "    </tr>\n",
       "    <tr>\n",
       "      <th>45.0</th>\n",
       "      <td>8.20</td>\n",
       "      <td>45.0</td>\n",
       "    </tr>\n",
       "    <tr>\n",
       "      <th>47.0</th>\n",
       "      <td>6.80</td>\n",
       "      <td>47.0</td>\n",
       "    </tr>\n",
       "    <tr>\n",
       "      <th>48.0</th>\n",
       "      <td>6.95</td>\n",
       "      <td>48.0</td>\n",
       "    </tr>\n",
       "    <tr>\n",
       "      <th>...</th>\n",
       "      <td>...</td>\n",
       "      <td>...</td>\n",
       "    </tr>\n",
       "    <tr>\n",
       "      <th>172.0</th>\n",
       "      <td>6.40</td>\n",
       "      <td>172.0</td>\n",
       "    </tr>\n",
       "    <tr>\n",
       "      <th>176.0</th>\n",
       "      <td>6.80</td>\n",
       "      <td>176.0</td>\n",
       "    </tr>\n",
       "    <tr>\n",
       "      <th>179.0</th>\n",
       "      <td>6.80</td>\n",
       "      <td>179.0</td>\n",
       "    </tr>\n",
       "    <tr>\n",
       "      <th>180.0</th>\n",
       "      <td>8.20</td>\n",
       "      <td>180.0</td>\n",
       "    </tr>\n",
       "    <tr>\n",
       "      <th>192.0</th>\n",
       "      <td>8.70</td>\n",
       "      <td>192.0</td>\n",
       "    </tr>\n",
       "  </tbody>\n",
       "</table>\n",
       "<p>122 rows × 2 columns</p>\n",
       "</div>"
      ],
      "text/plain": [
       "                 averagerating  runtime_minutes\n",
       "runtime_minutes                                \n",
       "5.0                       8.00              5.0\n",
       "41.0                      6.90             41.0\n",
       "45.0                      8.20             45.0\n",
       "47.0                      6.80             47.0\n",
       "48.0                      6.95             48.0\n",
       "...                        ...              ...\n",
       "172.0                     6.40            172.0\n",
       "176.0                     6.80            176.0\n",
       "179.0                     6.80            179.0\n",
       "180.0                     8.20            180.0\n",
       "192.0                     8.70            192.0\n",
       "\n",
       "[122 rows x 2 columns]"
      ]
     },
     "execution_count": 36,
     "metadata": {},
     "output_type": "execute_result"
    }
   ],
=======
   "execution_count": null,
   "metadata": {},
   "outputs": [],
>>>>>>> 265b1cb... Add files via upload
   "source": [
    "# average rating per run time\n",
    "avgrat_runtime = merge_it[['averagerating', 'runtime_minutes']].copy()\n",
    "avgrat_runtime = avgrat_runtime.dropna(subset=['averagerating'])\n",
    "avgrat_runtime = avgrat_runtime.dropna(subset=['runtime_minutes'])\n",
    "\n",
    "avgrat_runtime = avgrat_runtime.groupby('runtime_minutes').mean()\n",
    "avgrat_runtime['runtime_minutes']= avgrat_runtime.index ## new column for runtime min\n",
    "avgrat_runtime\n"
   ]
  },
  {
   "cell_type": "code",
<<<<<<< HEAD
<<<<<<< HEAD
   "execution_count": 60,
=======
   "execution_count": 37,
>>>>>>> bbcfa70... Fine Tooth Revisions
   "metadata": {
    "scrolled": true
   },
   "outputs": [
    {
     "data": {
      "text/plain": [
       "Text(0, 0.5, 'Average Rating')"
      ]
     },
     "execution_count": 37,
     "metadata": {},
     "output_type": "execute_result"
    },
    {
     "data": {
      "image/png": "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\n",
      "text/plain": [
       "<Figure size 432x288 with 1 Axes>"
      ]
     },
     "metadata": {
      "needs_background": "light"
     },
     "output_type": "display_data"
    }
   ],
=======
   "execution_count": null,
   "metadata": {
    "scrolled": true
   },
   "outputs": [],
>>>>>>> 265b1cb... Add files via upload
   "source": [
    "avgrat_runtime.plot.scatter(x='runtime_minutes',y='averagerating', color='green')\n",
    "plt.title('Average Ratings per Runtime in Minutes')\n",
    "plt.xlabel('Runtime in Minutes')\n",
    "plt.ylabel('Average Rating')\n"
   ]
  },
  {
   "cell_type": "markdown",
   "metadata": {},
   "source": [
    "### Conclusion\n",
    "Between 55-65 minutes, or between 100-145 minutes, seems to yeild the most consistently high marks. "
   ]
  },
  {
   "cell_type": "markdown",
   "metadata": {},
   "source": [
    "## Average Domestic Gross By Average Rating"
   ]
  },
  {
   "cell_type": "code",
<<<<<<< HEAD
<<<<<<< HEAD
   "execution_count": 61,
=======
   "execution_count": 38,
>>>>>>> bbcfa70... Fine Tooth Revisions
   "metadata": {
    "scrolled": true
   },
   "outputs": [
    {
     "data": {
      "text/html": [
       "<div>\n",
       "<style scoped>\n",
       "    .dataframe tbody tr th:only-of-type {\n",
       "        vertical-align: middle;\n",
       "    }\n",
       "\n",
       "    .dataframe tbody tr th {\n",
       "        vertical-align: top;\n",
       "    }\n",
       "\n",
       "    .dataframe thead th {\n",
       "        text-align: right;\n",
       "    }\n",
       "</style>\n",
       "<table border=\"1\" class=\"dataframe\">\n",
       "  <thead>\n",
       "    <tr style=\"text-align: right;\">\n",
       "      <th></th>\n",
       "      <th>Domestic_gross</th>\n",
       "      <th>averagerating</th>\n",
       "    </tr>\n",
       "    <tr>\n",
       "      <th>averagerating</th>\n",
       "      <th></th>\n",
       "      <th></th>\n",
       "    </tr>\n",
       "  </thead>\n",
       "  <tbody>\n",
       "    <tr>\n",
       "      <th>1.6</th>\n",
       "      <td>73.0</td>\n",
       "      <td>1.6</td>\n",
       "    </tr>\n",
       "    <tr>\n",
       "      <th>2.3</th>\n",
       "      <td>4.0</td>\n",
       "      <td>2.3</td>\n",
       "    </tr>\n",
       "    <tr>\n",
       "      <th>2.8</th>\n",
       "      <td>22.0</td>\n",
       "      <td>2.8</td>\n",
       "    </tr>\n",
       "    <tr>\n",
       "      <th>2.9</th>\n",
       "      <td>69.0</td>\n",
       "      <td>2.9</td>\n",
       "    </tr>\n",
       "    <tr>\n",
       "      <th>3.2</th>\n",
       "      <td>16.0</td>\n",
       "      <td>3.2</td>\n",
       "    </tr>\n",
       "    <tr>\n",
       "      <th>...</th>\n",
       "      <td>...</td>\n",
       "      <td>...</td>\n",
       "    </tr>\n",
       "    <tr>\n",
       "      <th>8.7</th>\n",
       "      <td>48.0</td>\n",
       "      <td>8.7</td>\n",
       "    </tr>\n",
       "    <tr>\n",
       "      <th>8.8</th>\n",
       "      <td>88.0</td>\n",
       "      <td>8.8</td>\n",
       "    </tr>\n",
       "    <tr>\n",
       "      <th>8.9</th>\n",
       "      <td>9.0</td>\n",
       "      <td>8.9</td>\n",
       "    </tr>\n",
       "    <tr>\n",
       "      <th>9.0</th>\n",
       "      <td>11.0</td>\n",
       "      <td>9.0</td>\n",
       "    </tr>\n",
       "    <tr>\n",
       "      <th>9.2</th>\n",
       "      <td>1.0</td>\n",
       "      <td>9.2</td>\n",
       "    </tr>\n",
       "  </tbody>\n",
       "</table>\n",
       "<p>64 rows × 2 columns</p>\n",
       "</div>"
      ],
      "text/plain": [
       "               Domestic_gross  averagerating\n",
       "averagerating                               \n",
       "1.6                      73.0            1.6\n",
       "2.3                       4.0            2.3\n",
       "2.8                      22.0            2.8\n",
       "2.9                      69.0            2.9\n",
       "3.2                      16.0            3.2\n",
       "...                       ...            ...\n",
       "8.7                      48.0            8.7\n",
       "8.8                      88.0            8.8\n",
       "8.9                       9.0            8.9\n",
       "9.0                      11.0            9.0\n",
       "9.2                       1.0            9.2\n",
       "\n",
       "[64 rows x 2 columns]"
      ]
     },
     "execution_count": 38,
     "metadata": {},
     "output_type": "execute_result"
    }
   ],
=======
   "execution_count": null,
   "metadata": {
    "scrolled": true
   },
   "outputs": [],
>>>>>>> 265b1cb... Add files via upload
   "source": [
    "#Average Domestic gross by average rating\n",
    "avrgrt_domg = merge_it[['averagerating', 'Domestic_gross']].copy()\n",
    "avrgrt_domg = avrgrt_domg.dropna(subset=['averagerating'])\n",
    "avrgrt_domg = avrgrt_domg.groupby('averagerating').mean()\n",
    "avrgrt_domg['Domestic_gross'] = avrgrt_domg['Domestic_gross']//1000000 ### simplicity to millions\n",
    "avrgrt_domg = avrgrt_domg[avrgrt_domg.Domestic_gross != 0]\n",
    "avrgrt_domg['averagerating']= avrgrt_domg.index ## new column for average rating\n",
    "avrgrt_domg"
   ]
  },
  {
   "cell_type": "code",
<<<<<<< HEAD
<<<<<<< HEAD
   "execution_count": 62,
=======
   "execution_count": 39,
>>>>>>> bbcfa70... Fine Tooth Revisions
   "metadata": {
    "scrolled": false
   },
   "outputs": [
    {
     "data": {
      "text/plain": [
       "Text(0, 0.5, 'Average Domestic Gross in Millions of US Dollars')"
      ]
     },
     "execution_count": 39,
     "metadata": {},
     "output_type": "execute_result"
    },
    {
     "data": {
      "image/png": "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\n",
      "text/plain": [
       "<Figure size 432x288 with 1 Axes>"
      ]
     },
     "metadata": {
      "needs_background": "light"
     },
     "output_type": "display_data"
    }
   ],
=======
   "execution_count": null,
   "metadata": {
    "scrolled": false
   },
   "outputs": [],
>>>>>>> 265b1cb... Add files via upload
   "source": [
    "avrgrt_domg.plot.scatter(x='averagerating', y='Domestic_gross', color='green')\n",
    "plt.title('Average Domestic Gross per Average Rating')\n",
    "plt.xlabel('Average Rating')\n",
    "plt.ylabel('Average Domestic Gross in Millions of US Dollars')"
   ]
  },
  {
   "cell_type": "markdown",
   "metadata": {},
   "source": [
    "### Conclusion:\n",
    "Generally the data shows that the higher rated a film is, the more money it is set to bring in! However, even highly rated films are not guaranteed to gross more than a lower rated film. "
   ]
  },
  {
   "cell_type": "markdown",
   "metadata": {},
   "source": [
    "### Average Rating Per Director\n",
    "Let's find a good director to bring your movie to life!"
   ]
  },
  {
   "cell_type": "code",
<<<<<<< HEAD
<<<<<<< HEAD
   "execution_count": 44,
=======
   "execution_count": 40,
>>>>>>> bbcfa70... Fine Tooth Revisions
   "metadata": {},
   "outputs": [
    {
     "data": {
      "text/plain": [
       "primary_name\n",
       "Emre Oran                   10.0\n",
       "Adam Rabinowitz              9.6\n",
       "Karzan Kardozi               9.6\n",
       "Roi Maoz                     9.6\n",
       "Violeta Paus Soto            9.4\n",
       "Zolbayar Dorj                9.4\n",
       "Janice Buenaventura          9.3\n",
       "Rhadem Camlian Morados       9.3\n",
       "Zack Bennett                 9.3\n",
       "Kevin Schlanser              9.3\n",
       "Chandler Wild                9.3\n",
       "Aaron Jackson                9.2\n",
       "Jerome Walter Gueguen        9.2\n",
       "Ian Wiggins                  9.2\n",
       "Steve Gute                   9.2\n",
       "Richard Heap                 9.2\n",
       "Ivane Arsenishvili           9.2\n",
       "Nino Orjonikidze             9.2\n",
       "Constantine Papanicolaou     9.1\n",
       "António Caetano Faria        9.1\n",
       "Name: averagerating, dtype: float64"
      ]
     },
     "execution_count": 40,
     "metadata": {},
     "output_type": "execute_result"
    }
   ],
=======
   "execution_count": null,
   "metadata": {},
   "outputs": [],
>>>>>>> 265b1cb... Add files via upload
   "source": [
    "adventure_directors = imdb_db2.copy()\n",
    "adventure_directors = adventure_directors.dropna(subset=['genres'])\n",
    "adventure_directors = adventure_directors[adventure_directors['genres'].str.contains(\"Adventure\")]\n",
    "adventure_directors = adventure_directors.drop(axis=1, columns = ['Title','original_title','runtime_minutes', 'start_year', 'genres', 'category'])\n",
    "adventure_directors = adventure_directors.groupby('primary_name').mean()\n",
    "adventure_directors = adventure_directors['averagerating'].sort_values()\n",
    "adventure_directors\n",
    "\n",
    "### Top 20 Adventure Directors\n",
    "adventure_directors_top20 = adventure_directors.nlargest(n=20)\n",
    "adventure_directors_top20"
   ]
  },
  {
   "cell_type": "markdown",
   "metadata": {},
   "source": [
    "### Conclusion: \n",
    "Though he is on the bottom of the top 20 rated directors for Adventure, I would reccomend Richard Heap, as his most recent work, The Runaways, received multiple awards, and he has extensive experience as an editor, director, and cinematographer. "
   ]
  },
  {
<<<<<<< HEAD
   "cell_type": "markdown",
   "metadata": {},
   "source": [
    "## And there you have it!\n",
    "All the fun calculations, tricks, and visuals to bring this project to life! Thanks for joining me!"
   ]
<<<<<<< HEAD
  },
  {
   "cell_type": "code",
   "execution_count": null,
   "metadata": {},
   "outputs": [],
   "source": []
  },
  {
   "cell_type": "code",
   "execution_count": null,
   "metadata": {},
   "outputs": [],
   "source": []
  },
  {
=======
>>>>>>> 265b1cb... Add files via upload
   "cell_type": "code",
   "execution_count": null,
   "metadata": {},
   "outputs": [],
   "source": []
  },
  {
<<<<<<< HEAD
   "cell_type": "code",
   "execution_count": null,
   "metadata": {},
   "outputs": [],
   "source": []
  },
  {
   "cell_type": "code",
   "execution_count": null,
   "metadata": {},
   "outputs": [],
   "source": []
  },
  {
   "cell_type": "code",
   "execution_count": null,
   "metadata": {},
   "outputs": [],
   "source": []
  },
  {
   "cell_type": "code",
   "execution_count": null,
   "metadata": {},
   "outputs": [],
   "source": []
  },
  {
   "cell_type": "code",
   "execution_count": null,
   "metadata": {},
   "outputs": [],
   "source": []
=======
   "cell_type": "markdown",
   "metadata": {},
   "source": [
    "## And there you have it!\n",
    "All the fun calculations, tricks, and visuals to bring this project to life! Thanks for joining me!"
   ]
>>>>>>> 265b1cb... Add files via upload
  },
  {
   "cell_type": "code",
   "execution_count": null,
   "metadata": {},
   "outputs": [],
   "source": []
  },
  {
   "cell_type": "code",
   "execution_count": null,
   "metadata": {},
   "outputs": [],
<<<<<<< HEAD
   "source": []
=======
   "source": [
    "# Your code here - remember to use markdown cells for comments as well!"
   ]
>>>>>>> 265b1cb... Add files via upload
=======
>>>>>>> bbcfa70... Fine Tooth Revisions
  }
 ],
 "metadata": {
  "kernelspec": {
   "display_name": "Python 3",
   "language": "python",
   "name": "python3"
  },
  "language_info": {
   "codemirror_mode": {
    "name": "ipython",
    "version": 3
   },
   "file_extension": ".py",
   "mimetype": "text/x-python",
   "name": "python",
   "nbconvert_exporter": "python",
   "pygments_lexer": "ipython3",
   "version": "3.8.5"
  }
 },
 "nbformat": 4,
 "nbformat_minor": 2
}
